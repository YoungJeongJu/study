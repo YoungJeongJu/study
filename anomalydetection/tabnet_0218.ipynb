{
 "cells": [
  {
   "cell_type": "markdown",
   "metadata": {
    "id": "oVnCCjdolt1h"
   },
   "source": [
    "# Tabnet : Self-supervised learning\n"
   ]
  },
  {
   "cell_type": "markdown",
   "metadata": {
    "id": "GKz4_5K2l5vQ"
   },
   "source": [
    "## Example : Fraud Detection"
   ]
  },
  {
   "cell_type": "markdown",
   "metadata": {
    "id": "C3veZBnplzr_"
   },
   "source": [
    "### Import packages"
   ]
  },
  {
   "cell_type": "code",
   "execution_count": null,
   "metadata": {
    "colab": {
     "base_uri": "https://localhost:8080/"
    },
    "id": "oiPBOUCGbnVT",
    "outputId": "53cb7073-f21b-4667-92a2-dffd4439e3ef"
   },
   "outputs": [
    {
     "name": "stdout",
     "output_type": "stream",
     "text": [
      "Drive already mounted at /content/drive; to attempt to forcibly remount, call drive.mount(\"/content/drive\", force_remount=True).\n"
     ]
    }
   ],
   "source": [
    "from google.colab import drive\n",
    "drive.mount('/content/drive',force_remount=True)"
   ]
  },
  {
   "cell_type": "code",
   "execution_count": null,
   "metadata": {
    "colab": {
     "base_uri": "https://localhost:8080/"
    },
    "id": "NuxsBdLJ_mK5",
    "outputId": "9b754b1c-526c-4649-ecf5-fb2bee5eb361"
   },
   "outputs": [
    {
     "name": "stdout",
     "output_type": "stream",
     "text": [
      "Requirement already satisfied: xgboost in /usr/local/lib/python3.7/dist-packages (0.90)\n",
      "Requirement already satisfied: scipy in /usr/local/lib/python3.7/dist-packages (from xgboost) (1.4.1)\n",
      "Requirement already satisfied: numpy in /usr/local/lib/python3.7/dist-packages (from xgboost) (1.21.5)\n",
      "Collecting pytorch_tabnet\n",
      "  Downloading pytorch_tabnet-3.1.1-py3-none-any.whl (39 kB)\n",
      "Requirement already satisfied: tqdm<5.0,>=4.36 in /usr/local/lib/python3.7/dist-packages (from pytorch_tabnet) (4.62.3)\n",
      "Requirement already satisfied: scikit_learn>0.21 in /usr/local/lib/python3.7/dist-packages (from pytorch_tabnet) (1.0.2)\n",
      "Requirement already satisfied: numpy<2.0,>=1.17 in /usr/local/lib/python3.7/dist-packages (from pytorch_tabnet) (1.21.5)\n",
      "Requirement already satisfied: torch<2.0,>=1.2 in /usr/local/lib/python3.7/dist-packages (from pytorch_tabnet) (1.10.0+cu111)\n",
      "Requirement already satisfied: scipy>1.4 in /usr/local/lib/python3.7/dist-packages (from pytorch_tabnet) (1.4.1)\n",
      "Requirement already satisfied: threadpoolctl>=2.0.0 in /usr/local/lib/python3.7/dist-packages (from scikit_learn>0.21->pytorch_tabnet) (3.1.0)\n",
      "Requirement already satisfied: joblib>=0.11 in /usr/local/lib/python3.7/dist-packages (from scikit_learn>0.21->pytorch_tabnet) (1.1.0)\n",
      "Requirement already satisfied: typing-extensions in /usr/local/lib/python3.7/dist-packages (from torch<2.0,>=1.2->pytorch_tabnet) (3.10.0.2)\n",
      "Installing collected packages: pytorch-tabnet\n",
      "Successfully installed pytorch-tabnet-3.1.1\n",
      "Collecting iterative-stratification\n",
      "  Downloading iterative_stratification-0.1.7-py3-none-any.whl (8.5 kB)\n",
      "Requirement already satisfied: numpy in /usr/local/lib/python3.7/dist-packages (from iterative-stratification) (1.21.5)\n",
      "Requirement already satisfied: scikit-learn in /usr/local/lib/python3.7/dist-packages (from iterative-stratification) (1.0.2)\n",
      "Requirement already satisfied: scipy in /usr/local/lib/python3.7/dist-packages (from iterative-stratification) (1.4.1)\n",
      "Requirement already satisfied: threadpoolctl>=2.0.0 in /usr/local/lib/python3.7/dist-packages (from scikit-learn->iterative-stratification) (3.1.0)\n",
      "Requirement already satisfied: joblib>=0.11 in /usr/local/lib/python3.7/dist-packages (from scikit-learn->iterative-stratification) (1.1.0)\n",
      "Installing collected packages: iterative-stratification\n",
      "Successfully installed iterative-stratification-0.1.7\n"
     ]
    }
   ],
   "source": [
    "!pip3 install xgboost\n",
    "!pip3 install pytorch_tabnet\n",
    "!pip3 install iterative-stratification"
   ]
  },
  {
   "cell_type": "code",
   "execution_count": null,
   "metadata": {
    "colab": {
     "base_uri": "https://localhost:8080/"
    },
    "id": "b9A6sYMSCtpV",
    "outputId": "76464752-dff0-4897-e8bf-ad0ce204b86c"
   },
   "outputs": [
    {
     "name": "stdout",
     "output_type": "stream",
     "text": [
      "1.10.0+cu111\n"
     ]
    }
   ],
   "source": [
    "import torch\n",
    "print(torch.__version__)\n",
    "import torchvision\n",
    "from torch import nn\n",
    "from torch.utils.data import DataLoader, Dataset\n",
    "import torch.optim as optim\n",
    "import torch.nn.functional as F\n",
    "from torch.optim.lr_scheduler import ReduceLROnPlateau\n",
    "# from sklearn.model_selection import StratifiedKFold\n",
    "\n",
    "from pytorch_tabnet.tab_model import  TabNetClassifier\n",
    "import xgboost\n",
    "from xgboost import XGBClassifier\n",
    "\n",
    "import matplotlib.pyplot as plt\n",
    "import numpy as np\n",
    "import pandas as pd \n",
    "\n",
    "import os\n",
    "import random\n",
    "import sys\n",
    "os.environ[\"CUDA_LAUNCH_BLOCKING\"] = \"1\"\n",
    "\n",
    "from tqdm import tqdm\n",
    "from sklearn.metrics import log_loss\n",
    "\n",
    "# from iterstrat.ml_stratifiers import MultilabelStratifiedKFold, MultilabelStratifiedShuffleSplit\n",
    "# from sklearn.metrics import roc_auc_score\n",
    "\n",
    "from sklearn.model_selection import train_test_split \n",
    "from sklearn.metrics import classification_report, accuracy_score, precision_score, recall_score, f1_score, roc_auc_score, roc_curve, confusion_matrix\n",
    "from sklearn.preprocessing import MinMaxScaler, StandardScaler\n",
    "# from sklearn.manifold import TSNE\n",
    "# from sklearn.compose import ColumnTransformer\n",
    "# from mpl_toolkits.mplot3d import Axes3D"
   ]
  },
  {
   "cell_type": "code",
   "execution_count": null,
   "metadata": {
    "id": "vMlH7F75SxCd"
   },
   "outputs": [],
   "source": [
    "import gc\n",
    "gc.collect()\n",
    "torch.cuda.empty_cache()"
   ]
  },
  {
   "cell_type": "code",
   "execution_count": null,
   "metadata": {
    "id": "ndF4iKOxQxMq"
   },
   "outputs": [],
   "source": [
    "if torch.cuda.is_available():\n",
    "  DEVICE = torch.device('cuda')\n",
    "else:\n",
    "  DEVISE = torch.device('cpu')"
   ]
  },
  {
   "cell_type": "code",
   "execution_count": null,
   "metadata": {
    "colab": {
     "base_uri": "https://localhost:8080/",
     "height": 487
    },
    "id": "E0gYOfSiGuDL",
    "outputId": "a5f42924-aa48-433c-bb51-63f4f9f39c55"
   },
   "outputs": [
    {
     "data": {
      "text/html": [
       "\n",
       "  <div id=\"df-75d19912-6edf-4b2b-901a-0b8839e5d1bd\">\n",
       "    <div class=\"colab-df-container\">\n",
       "      <div>\n",
       "<style scoped>\n",
       "    .dataframe tbody tr th:only-of-type {\n",
       "        vertical-align: middle;\n",
       "    }\n",
       "\n",
       "    .dataframe tbody tr th {\n",
       "        vertical-align: top;\n",
       "    }\n",
       "\n",
       "    .dataframe thead th {\n",
       "        text-align: right;\n",
       "    }\n",
       "</style>\n",
       "<table border=\"1\" class=\"dataframe\">\n",
       "  <thead>\n",
       "    <tr style=\"text-align: right;\">\n",
       "      <th></th>\n",
       "      <th>Time</th>\n",
       "      <th>V1</th>\n",
       "      <th>V2</th>\n",
       "      <th>V3</th>\n",
       "      <th>V4</th>\n",
       "      <th>V5</th>\n",
       "      <th>V6</th>\n",
       "      <th>V7</th>\n",
       "      <th>V8</th>\n",
       "      <th>V9</th>\n",
       "      <th>V10</th>\n",
       "      <th>V11</th>\n",
       "      <th>V12</th>\n",
       "      <th>V13</th>\n",
       "      <th>V14</th>\n",
       "      <th>V15</th>\n",
       "      <th>V16</th>\n",
       "      <th>V17</th>\n",
       "      <th>V18</th>\n",
       "      <th>V19</th>\n",
       "      <th>V20</th>\n",
       "      <th>V21</th>\n",
       "      <th>V22</th>\n",
       "      <th>V23</th>\n",
       "      <th>V24</th>\n",
       "      <th>V25</th>\n",
       "      <th>V26</th>\n",
       "      <th>V27</th>\n",
       "      <th>V28</th>\n",
       "      <th>Amount</th>\n",
       "      <th>Class</th>\n",
       "    </tr>\n",
       "  </thead>\n",
       "  <tbody>\n",
       "    <tr>\n",
       "      <th>0</th>\n",
       "      <td>0.0</td>\n",
       "      <td>-1.359807</td>\n",
       "      <td>-0.072781</td>\n",
       "      <td>2.536347</td>\n",
       "      <td>1.378155</td>\n",
       "      <td>-0.338321</td>\n",
       "      <td>0.462388</td>\n",
       "      <td>0.239599</td>\n",
       "      <td>0.098698</td>\n",
       "      <td>0.363787</td>\n",
       "      <td>0.090794</td>\n",
       "      <td>-0.551600</td>\n",
       "      <td>-0.617801</td>\n",
       "      <td>-0.991390</td>\n",
       "      <td>-0.311169</td>\n",
       "      <td>1.468177</td>\n",
       "      <td>-0.470401</td>\n",
       "      <td>0.207971</td>\n",
       "      <td>0.025791</td>\n",
       "      <td>0.403993</td>\n",
       "      <td>0.251412</td>\n",
       "      <td>-0.018307</td>\n",
       "      <td>0.277838</td>\n",
       "      <td>-0.110474</td>\n",
       "      <td>0.066928</td>\n",
       "      <td>0.128539</td>\n",
       "      <td>-0.189115</td>\n",
       "      <td>0.133558</td>\n",
       "      <td>-0.021053</td>\n",
       "      <td>149.62</td>\n",
       "      <td>0</td>\n",
       "    </tr>\n",
       "    <tr>\n",
       "      <th>1</th>\n",
       "      <td>0.0</td>\n",
       "      <td>1.191857</td>\n",
       "      <td>0.266151</td>\n",
       "      <td>0.166480</td>\n",
       "      <td>0.448154</td>\n",
       "      <td>0.060018</td>\n",
       "      <td>-0.082361</td>\n",
       "      <td>-0.078803</td>\n",
       "      <td>0.085102</td>\n",
       "      <td>-0.255425</td>\n",
       "      <td>-0.166974</td>\n",
       "      <td>1.612727</td>\n",
       "      <td>1.065235</td>\n",
       "      <td>0.489095</td>\n",
       "      <td>-0.143772</td>\n",
       "      <td>0.635558</td>\n",
       "      <td>0.463917</td>\n",
       "      <td>-0.114805</td>\n",
       "      <td>-0.183361</td>\n",
       "      <td>-0.145783</td>\n",
       "      <td>-0.069083</td>\n",
       "      <td>-0.225775</td>\n",
       "      <td>-0.638672</td>\n",
       "      <td>0.101288</td>\n",
       "      <td>-0.339846</td>\n",
       "      <td>0.167170</td>\n",
       "      <td>0.125895</td>\n",
       "      <td>-0.008983</td>\n",
       "      <td>0.014724</td>\n",
       "      <td>2.69</td>\n",
       "      <td>0</td>\n",
       "    </tr>\n",
       "    <tr>\n",
       "      <th>2</th>\n",
       "      <td>1.0</td>\n",
       "      <td>-1.358354</td>\n",
       "      <td>-1.340163</td>\n",
       "      <td>1.773209</td>\n",
       "      <td>0.379780</td>\n",
       "      <td>-0.503198</td>\n",
       "      <td>1.800499</td>\n",
       "      <td>0.791461</td>\n",
       "      <td>0.247676</td>\n",
       "      <td>-1.514654</td>\n",
       "      <td>0.207643</td>\n",
       "      <td>0.624501</td>\n",
       "      <td>0.066084</td>\n",
       "      <td>0.717293</td>\n",
       "      <td>-0.165946</td>\n",
       "      <td>2.345865</td>\n",
       "      <td>-2.890083</td>\n",
       "      <td>1.109969</td>\n",
       "      <td>-0.121359</td>\n",
       "      <td>-2.261857</td>\n",
       "      <td>0.524980</td>\n",
       "      <td>0.247998</td>\n",
       "      <td>0.771679</td>\n",
       "      <td>0.909412</td>\n",
       "      <td>-0.689281</td>\n",
       "      <td>-0.327642</td>\n",
       "      <td>-0.139097</td>\n",
       "      <td>-0.055353</td>\n",
       "      <td>-0.059752</td>\n",
       "      <td>378.66</td>\n",
       "      <td>0</td>\n",
       "    </tr>\n",
       "    <tr>\n",
       "      <th>3</th>\n",
       "      <td>1.0</td>\n",
       "      <td>-0.966272</td>\n",
       "      <td>-0.185226</td>\n",
       "      <td>1.792993</td>\n",
       "      <td>-0.863291</td>\n",
       "      <td>-0.010309</td>\n",
       "      <td>1.247203</td>\n",
       "      <td>0.237609</td>\n",
       "      <td>0.377436</td>\n",
       "      <td>-1.387024</td>\n",
       "      <td>-0.054952</td>\n",
       "      <td>-0.226487</td>\n",
       "      <td>0.178228</td>\n",
       "      <td>0.507757</td>\n",
       "      <td>-0.287924</td>\n",
       "      <td>-0.631418</td>\n",
       "      <td>-1.059647</td>\n",
       "      <td>-0.684093</td>\n",
       "      <td>1.965775</td>\n",
       "      <td>-1.232622</td>\n",
       "      <td>-0.208038</td>\n",
       "      <td>-0.108300</td>\n",
       "      <td>0.005274</td>\n",
       "      <td>-0.190321</td>\n",
       "      <td>-1.175575</td>\n",
       "      <td>0.647376</td>\n",
       "      <td>-0.221929</td>\n",
       "      <td>0.062723</td>\n",
       "      <td>0.061458</td>\n",
       "      <td>123.50</td>\n",
       "      <td>0</td>\n",
       "    </tr>\n",
       "    <tr>\n",
       "      <th>4</th>\n",
       "      <td>2.0</td>\n",
       "      <td>-1.158233</td>\n",
       "      <td>0.877737</td>\n",
       "      <td>1.548718</td>\n",
       "      <td>0.403034</td>\n",
       "      <td>-0.407193</td>\n",
       "      <td>0.095921</td>\n",
       "      <td>0.592941</td>\n",
       "      <td>-0.270533</td>\n",
       "      <td>0.817739</td>\n",
       "      <td>0.753074</td>\n",
       "      <td>-0.822843</td>\n",
       "      <td>0.538196</td>\n",
       "      <td>1.345852</td>\n",
       "      <td>-1.119670</td>\n",
       "      <td>0.175121</td>\n",
       "      <td>-0.451449</td>\n",
       "      <td>-0.237033</td>\n",
       "      <td>-0.038195</td>\n",
       "      <td>0.803487</td>\n",
       "      <td>0.408542</td>\n",
       "      <td>-0.009431</td>\n",
       "      <td>0.798278</td>\n",
       "      <td>-0.137458</td>\n",
       "      <td>0.141267</td>\n",
       "      <td>-0.206010</td>\n",
       "      <td>0.502292</td>\n",
       "      <td>0.219422</td>\n",
       "      <td>0.215153</td>\n",
       "      <td>69.99</td>\n",
       "      <td>0</td>\n",
       "    </tr>\n",
       "    <tr>\n",
       "      <th>...</th>\n",
       "      <td>...</td>\n",
       "      <td>...</td>\n",
       "      <td>...</td>\n",
       "      <td>...</td>\n",
       "      <td>...</td>\n",
       "      <td>...</td>\n",
       "      <td>...</td>\n",
       "      <td>...</td>\n",
       "      <td>...</td>\n",
       "      <td>...</td>\n",
       "      <td>...</td>\n",
       "      <td>...</td>\n",
       "      <td>...</td>\n",
       "      <td>...</td>\n",
       "      <td>...</td>\n",
       "      <td>...</td>\n",
       "      <td>...</td>\n",
       "      <td>...</td>\n",
       "      <td>...</td>\n",
       "      <td>...</td>\n",
       "      <td>...</td>\n",
       "      <td>...</td>\n",
       "      <td>...</td>\n",
       "      <td>...</td>\n",
       "      <td>...</td>\n",
       "      <td>...</td>\n",
       "      <td>...</td>\n",
       "      <td>...</td>\n",
       "      <td>...</td>\n",
       "      <td>...</td>\n",
       "      <td>...</td>\n",
       "    </tr>\n",
       "    <tr>\n",
       "      <th>284802</th>\n",
       "      <td>172786.0</td>\n",
       "      <td>-11.881118</td>\n",
       "      <td>10.071785</td>\n",
       "      <td>-9.834783</td>\n",
       "      <td>-2.066656</td>\n",
       "      <td>-5.364473</td>\n",
       "      <td>-2.606837</td>\n",
       "      <td>-4.918215</td>\n",
       "      <td>7.305334</td>\n",
       "      <td>1.914428</td>\n",
       "      <td>4.356170</td>\n",
       "      <td>-1.593105</td>\n",
       "      <td>2.711941</td>\n",
       "      <td>-0.689256</td>\n",
       "      <td>4.626942</td>\n",
       "      <td>-0.924459</td>\n",
       "      <td>1.107641</td>\n",
       "      <td>1.991691</td>\n",
       "      <td>0.510632</td>\n",
       "      <td>-0.682920</td>\n",
       "      <td>1.475829</td>\n",
       "      <td>0.213454</td>\n",
       "      <td>0.111864</td>\n",
       "      <td>1.014480</td>\n",
       "      <td>-0.509348</td>\n",
       "      <td>1.436807</td>\n",
       "      <td>0.250034</td>\n",
       "      <td>0.943651</td>\n",
       "      <td>0.823731</td>\n",
       "      <td>0.77</td>\n",
       "      <td>0</td>\n",
       "    </tr>\n",
       "    <tr>\n",
       "      <th>284803</th>\n",
       "      <td>172787.0</td>\n",
       "      <td>-0.732789</td>\n",
       "      <td>-0.055080</td>\n",
       "      <td>2.035030</td>\n",
       "      <td>-0.738589</td>\n",
       "      <td>0.868229</td>\n",
       "      <td>1.058415</td>\n",
       "      <td>0.024330</td>\n",
       "      <td>0.294869</td>\n",
       "      <td>0.584800</td>\n",
       "      <td>-0.975926</td>\n",
       "      <td>-0.150189</td>\n",
       "      <td>0.915802</td>\n",
       "      <td>1.214756</td>\n",
       "      <td>-0.675143</td>\n",
       "      <td>1.164931</td>\n",
       "      <td>-0.711757</td>\n",
       "      <td>-0.025693</td>\n",
       "      <td>-1.221179</td>\n",
       "      <td>-1.545556</td>\n",
       "      <td>0.059616</td>\n",
       "      <td>0.214205</td>\n",
       "      <td>0.924384</td>\n",
       "      <td>0.012463</td>\n",
       "      <td>-1.016226</td>\n",
       "      <td>-0.606624</td>\n",
       "      <td>-0.395255</td>\n",
       "      <td>0.068472</td>\n",
       "      <td>-0.053527</td>\n",
       "      <td>24.79</td>\n",
       "      <td>0</td>\n",
       "    </tr>\n",
       "    <tr>\n",
       "      <th>284804</th>\n",
       "      <td>172788.0</td>\n",
       "      <td>1.919565</td>\n",
       "      <td>-0.301254</td>\n",
       "      <td>-3.249640</td>\n",
       "      <td>-0.557828</td>\n",
       "      <td>2.630515</td>\n",
       "      <td>3.031260</td>\n",
       "      <td>-0.296827</td>\n",
       "      <td>0.708417</td>\n",
       "      <td>0.432454</td>\n",
       "      <td>-0.484782</td>\n",
       "      <td>0.411614</td>\n",
       "      <td>0.063119</td>\n",
       "      <td>-0.183699</td>\n",
       "      <td>-0.510602</td>\n",
       "      <td>1.329284</td>\n",
       "      <td>0.140716</td>\n",
       "      <td>0.313502</td>\n",
       "      <td>0.395652</td>\n",
       "      <td>-0.577252</td>\n",
       "      <td>0.001396</td>\n",
       "      <td>0.232045</td>\n",
       "      <td>0.578229</td>\n",
       "      <td>-0.037501</td>\n",
       "      <td>0.640134</td>\n",
       "      <td>0.265745</td>\n",
       "      <td>-0.087371</td>\n",
       "      <td>0.004455</td>\n",
       "      <td>-0.026561</td>\n",
       "      <td>67.88</td>\n",
       "      <td>0</td>\n",
       "    </tr>\n",
       "    <tr>\n",
       "      <th>284805</th>\n",
       "      <td>172788.0</td>\n",
       "      <td>-0.240440</td>\n",
       "      <td>0.530483</td>\n",
       "      <td>0.702510</td>\n",
       "      <td>0.689799</td>\n",
       "      <td>-0.377961</td>\n",
       "      <td>0.623708</td>\n",
       "      <td>-0.686180</td>\n",
       "      <td>0.679145</td>\n",
       "      <td>0.392087</td>\n",
       "      <td>-0.399126</td>\n",
       "      <td>-1.933849</td>\n",
       "      <td>-0.962886</td>\n",
       "      <td>-1.042082</td>\n",
       "      <td>0.449624</td>\n",
       "      <td>1.962563</td>\n",
       "      <td>-0.608577</td>\n",
       "      <td>0.509928</td>\n",
       "      <td>1.113981</td>\n",
       "      <td>2.897849</td>\n",
       "      <td>0.127434</td>\n",
       "      <td>0.265245</td>\n",
       "      <td>0.800049</td>\n",
       "      <td>-0.163298</td>\n",
       "      <td>0.123205</td>\n",
       "      <td>-0.569159</td>\n",
       "      <td>0.546668</td>\n",
       "      <td>0.108821</td>\n",
       "      <td>0.104533</td>\n",
       "      <td>10.00</td>\n",
       "      <td>0</td>\n",
       "    </tr>\n",
       "    <tr>\n",
       "      <th>284806</th>\n",
       "      <td>172792.0</td>\n",
       "      <td>-0.533413</td>\n",
       "      <td>-0.189733</td>\n",
       "      <td>0.703337</td>\n",
       "      <td>-0.506271</td>\n",
       "      <td>-0.012546</td>\n",
       "      <td>-0.649617</td>\n",
       "      <td>1.577006</td>\n",
       "      <td>-0.414650</td>\n",
       "      <td>0.486180</td>\n",
       "      <td>-0.915427</td>\n",
       "      <td>-1.040458</td>\n",
       "      <td>-0.031513</td>\n",
       "      <td>-0.188093</td>\n",
       "      <td>-0.084316</td>\n",
       "      <td>0.041333</td>\n",
       "      <td>-0.302620</td>\n",
       "      <td>-0.660377</td>\n",
       "      <td>0.167430</td>\n",
       "      <td>-0.256117</td>\n",
       "      <td>0.382948</td>\n",
       "      <td>0.261057</td>\n",
       "      <td>0.643078</td>\n",
       "      <td>0.376777</td>\n",
       "      <td>0.008797</td>\n",
       "      <td>-0.473649</td>\n",
       "      <td>-0.818267</td>\n",
       "      <td>-0.002415</td>\n",
       "      <td>0.013649</td>\n",
       "      <td>217.00</td>\n",
       "      <td>0</td>\n",
       "    </tr>\n",
       "  </tbody>\n",
       "</table>\n",
       "<p>284807 rows × 31 columns</p>\n",
       "</div>\n",
       "      <button class=\"colab-df-convert\" onclick=\"convertToInteractive('df-75d19912-6edf-4b2b-901a-0b8839e5d1bd')\"\n",
       "              title=\"Convert this dataframe to an interactive table.\"\n",
       "              style=\"display:none;\">\n",
       "        \n",
       "  <svg xmlns=\"http://www.w3.org/2000/svg\" height=\"24px\"viewBox=\"0 0 24 24\"\n",
       "       width=\"24px\">\n",
       "    <path d=\"M0 0h24v24H0V0z\" fill=\"none\"/>\n",
       "    <path d=\"M18.56 5.44l.94 2.06.94-2.06 2.06-.94-2.06-.94-.94-2.06-.94 2.06-2.06.94zm-11 1L8.5 8.5l.94-2.06 2.06-.94-2.06-.94L8.5 2.5l-.94 2.06-2.06.94zm10 10l.94 2.06.94-2.06 2.06-.94-2.06-.94-.94-2.06-.94 2.06-2.06.94z\"/><path d=\"M17.41 7.96l-1.37-1.37c-.4-.4-.92-.59-1.43-.59-.52 0-1.04.2-1.43.59L10.3 9.45l-7.72 7.72c-.78.78-.78 2.05 0 2.83L4 21.41c.39.39.9.59 1.41.59.51 0 1.02-.2 1.41-.59l7.78-7.78 2.81-2.81c.8-.78.8-2.07 0-2.86zM5.41 20L4 18.59l7.72-7.72 1.47 1.35L5.41 20z\"/>\n",
       "  </svg>\n",
       "      </button>\n",
       "      \n",
       "  <style>\n",
       "    .colab-df-container {\n",
       "      display:flex;\n",
       "      flex-wrap:wrap;\n",
       "      gap: 12px;\n",
       "    }\n",
       "\n",
       "    .colab-df-convert {\n",
       "      background-color: #E8F0FE;\n",
       "      border: none;\n",
       "      border-radius: 50%;\n",
       "      cursor: pointer;\n",
       "      display: none;\n",
       "      fill: #1967D2;\n",
       "      height: 32px;\n",
       "      padding: 0 0 0 0;\n",
       "      width: 32px;\n",
       "    }\n",
       "\n",
       "    .colab-df-convert:hover {\n",
       "      background-color: #E2EBFA;\n",
       "      box-shadow: 0px 1px 2px rgba(60, 64, 67, 0.3), 0px 1px 3px 1px rgba(60, 64, 67, 0.15);\n",
       "      fill: #174EA6;\n",
       "    }\n",
       "\n",
       "    [theme=dark] .colab-df-convert {\n",
       "      background-color: #3B4455;\n",
       "      fill: #D2E3FC;\n",
       "    }\n",
       "\n",
       "    [theme=dark] .colab-df-convert:hover {\n",
       "      background-color: #434B5C;\n",
       "      box-shadow: 0px 1px 3px 1px rgba(0, 0, 0, 0.15);\n",
       "      filter: drop-shadow(0px 1px 2px rgba(0, 0, 0, 0.3));\n",
       "      fill: #FFFFFF;\n",
       "    }\n",
       "  </style>\n",
       "\n",
       "      <script>\n",
       "        const buttonEl =\n",
       "          document.querySelector('#df-75d19912-6edf-4b2b-901a-0b8839e5d1bd button.colab-df-convert');\n",
       "        buttonEl.style.display =\n",
       "          google.colab.kernel.accessAllowed ? 'block' : 'none';\n",
       "\n",
       "        async function convertToInteractive(key) {\n",
       "          const element = document.querySelector('#df-75d19912-6edf-4b2b-901a-0b8839e5d1bd');\n",
       "          const dataTable =\n",
       "            await google.colab.kernel.invokeFunction('convertToInteractive',\n",
       "                                                     [key], {});\n",
       "          if (!dataTable) return;\n",
       "\n",
       "          const docLinkHtml = 'Like what you see? Visit the ' +\n",
       "            '<a target=\"_blank\" href=https://colab.research.google.com/notebooks/data_table.ipynb>data table notebook</a>'\n",
       "            + ' to learn more about interactive tables.';\n",
       "          element.innerHTML = '';\n",
       "          dataTable['output_type'] = 'display_data';\n",
       "          await google.colab.output.renderOutput(dataTable, element);\n",
       "          const docLink = document.createElement('div');\n",
       "          docLink.innerHTML = docLinkHtml;\n",
       "          element.appendChild(docLink);\n",
       "        }\n",
       "      </script>\n",
       "    </div>\n",
       "  </div>\n",
       "  "
      ],
      "text/plain": [
       "            Time         V1         V2  ...       V28  Amount  Class\n",
       "0            0.0  -1.359807  -0.072781  ... -0.021053  149.62      0\n",
       "1            0.0   1.191857   0.266151  ...  0.014724    2.69      0\n",
       "2            1.0  -1.358354  -1.340163  ... -0.059752  378.66      0\n",
       "3            1.0  -0.966272  -0.185226  ...  0.061458  123.50      0\n",
       "4            2.0  -1.158233   0.877737  ...  0.215153   69.99      0\n",
       "...          ...        ...        ...  ...       ...     ...    ...\n",
       "284802  172786.0 -11.881118  10.071785  ...  0.823731    0.77      0\n",
       "284803  172787.0  -0.732789  -0.055080  ... -0.053527   24.79      0\n",
       "284804  172788.0   1.919565  -0.301254  ... -0.026561   67.88      0\n",
       "284805  172788.0  -0.240440   0.530483  ...  0.104533   10.00      0\n",
       "284806  172792.0  -0.533413  -0.189733  ...  0.013649  217.00      0\n",
       "\n",
       "[284807 rows x 31 columns]"
      ]
     },
     "execution_count": 11,
     "metadata": {},
     "output_type": "execute_result"
    }
   ],
   "source": [
    "data_path = '/content/drive/MyDrive/Project/research/data/'\n",
    "dataset = pd.read_csv(data_path+'creditcard.csv')\n",
    "dataset"
   ]
  },
  {
   "cell_type": "code",
   "execution_count": null,
   "metadata": {
    "colab": {
     "base_uri": "https://localhost:8080/"
    },
    "id": "vV5J8zHrAH1y",
    "outputId": "b2d2be9c-1b6e-431d-e0ab-b1ea6bdbb07c"
   },
   "outputs": [
    {
     "data": {
      "text/plain": [
       "(284807, 31)"
      ]
     },
     "execution_count": 12,
     "metadata": {},
     "output_type": "execute_result"
    }
   ],
   "source": [
    "dataset.columns = map(str.lower, dataset.columns)\n",
    "dataset.rename(columns={'class': 'label'}, inplace=True)\n",
    "\n",
    "dataset.shape"
   ]
  },
  {
   "cell_type": "markdown",
   "metadata": {
    "id": "rf4wVlANmAzk"
   },
   "source": [
    "### Preprocessing \n",
    "\n",
    "\n",
    "*   amount 변수 로그화\n",
    "*   time 변수 제거\n",
    "*   변수 정규화\n",
    "\n"
   ]
  },
  {
   "cell_type": "code",
   "execution_count": null,
   "metadata": {
    "colab": {
     "base_uri": "https://localhost:8080/",
     "height": 270
    },
    "id": "TchChlTwRN2H",
    "outputId": "bab1f745-0ff8-489a-fcac-cceed7f94ad0"
   },
   "outputs": [
    {
     "data": {
      "text/html": [
       "\n",
       "  <div id=\"df-39bd2fb8-c5e3-490f-9551-1255702b8808\">\n",
       "    <div class=\"colab-df-container\">\n",
       "      <div>\n",
       "<style scoped>\n",
       "    .dataframe tbody tr th:only-of-type {\n",
       "        vertical-align: middle;\n",
       "    }\n",
       "\n",
       "    .dataframe tbody tr th {\n",
       "        vertical-align: top;\n",
       "    }\n",
       "\n",
       "    .dataframe thead th {\n",
       "        text-align: right;\n",
       "    }\n",
       "</style>\n",
       "<table border=\"1\" class=\"dataframe\">\n",
       "  <thead>\n",
       "    <tr style=\"text-align: right;\">\n",
       "      <th></th>\n",
       "      <th>v1</th>\n",
       "      <th>v2</th>\n",
       "      <th>v3</th>\n",
       "      <th>v4</th>\n",
       "      <th>v5</th>\n",
       "      <th>v6</th>\n",
       "      <th>v7</th>\n",
       "      <th>v8</th>\n",
       "      <th>v9</th>\n",
       "      <th>v10</th>\n",
       "      <th>v11</th>\n",
       "      <th>v12</th>\n",
       "      <th>v13</th>\n",
       "      <th>v14</th>\n",
       "      <th>v15</th>\n",
       "      <th>v16</th>\n",
       "      <th>v17</th>\n",
       "      <th>v18</th>\n",
       "      <th>v19</th>\n",
       "      <th>v20</th>\n",
       "      <th>v21</th>\n",
       "      <th>v22</th>\n",
       "      <th>v23</th>\n",
       "      <th>v24</th>\n",
       "      <th>v25</th>\n",
       "      <th>v26</th>\n",
       "      <th>v27</th>\n",
       "      <th>v28</th>\n",
       "      <th>amount</th>\n",
       "      <th>label</th>\n",
       "    </tr>\n",
       "  </thead>\n",
       "  <tbody>\n",
       "    <tr>\n",
       "      <th>0</th>\n",
       "      <td>0.935192</td>\n",
       "      <td>0.766490</td>\n",
       "      <td>0.881365</td>\n",
       "      <td>0.313023</td>\n",
       "      <td>0.763439</td>\n",
       "      <td>0.267669</td>\n",
       "      <td>0.266815</td>\n",
       "      <td>0.786444</td>\n",
       "      <td>0.475312</td>\n",
       "      <td>0.510600</td>\n",
       "      <td>0.252484</td>\n",
       "      <td>0.680908</td>\n",
       "      <td>0.371591</td>\n",
       "      <td>0.635591</td>\n",
       "      <td>0.446084</td>\n",
       "      <td>0.434392</td>\n",
       "      <td>0.737173</td>\n",
       "      <td>0.655066</td>\n",
       "      <td>0.594863</td>\n",
       "      <td>0.582942</td>\n",
       "      <td>0.561184</td>\n",
       "      <td>0.522992</td>\n",
       "      <td>0.663793</td>\n",
       "      <td>0.391253</td>\n",
       "      <td>0.585122</td>\n",
       "      <td>0.394557</td>\n",
       "      <td>0.418976</td>\n",
       "      <td>0.312697</td>\n",
       "      <td>0.493873</td>\n",
       "      <td>0.0</td>\n",
       "    </tr>\n",
       "    <tr>\n",
       "      <th>1</th>\n",
       "      <td>0.978542</td>\n",
       "      <td>0.770067</td>\n",
       "      <td>0.840298</td>\n",
       "      <td>0.271796</td>\n",
       "      <td>0.766120</td>\n",
       "      <td>0.262192</td>\n",
       "      <td>0.264875</td>\n",
       "      <td>0.786298</td>\n",
       "      <td>0.453981</td>\n",
       "      <td>0.505267</td>\n",
       "      <td>0.381188</td>\n",
       "      <td>0.744342</td>\n",
       "      <td>0.486190</td>\n",
       "      <td>0.641219</td>\n",
       "      <td>0.383840</td>\n",
       "      <td>0.464105</td>\n",
       "      <td>0.727794</td>\n",
       "      <td>0.640681</td>\n",
       "      <td>0.551930</td>\n",
       "      <td>0.579530</td>\n",
       "      <td>0.557840</td>\n",
       "      <td>0.480237</td>\n",
       "      <td>0.666938</td>\n",
       "      <td>0.336440</td>\n",
       "      <td>0.587290</td>\n",
       "      <td>0.446013</td>\n",
       "      <td>0.416345</td>\n",
       "      <td>0.313423</td>\n",
       "      <td>0.128583</td>\n",
       "      <td>0.0</td>\n",
       "    </tr>\n",
       "    <tr>\n",
       "      <th>2</th>\n",
       "      <td>0.935217</td>\n",
       "      <td>0.753118</td>\n",
       "      <td>0.868141</td>\n",
       "      <td>0.268766</td>\n",
       "      <td>0.762329</td>\n",
       "      <td>0.281122</td>\n",
       "      <td>0.270177</td>\n",
       "      <td>0.788042</td>\n",
       "      <td>0.410603</td>\n",
       "      <td>0.513018</td>\n",
       "      <td>0.322422</td>\n",
       "      <td>0.706683</td>\n",
       "      <td>0.503854</td>\n",
       "      <td>0.640473</td>\n",
       "      <td>0.511697</td>\n",
       "      <td>0.357443</td>\n",
       "      <td>0.763381</td>\n",
       "      <td>0.644945</td>\n",
       "      <td>0.386683</td>\n",
       "      <td>0.585855</td>\n",
       "      <td>0.565477</td>\n",
       "      <td>0.546030</td>\n",
       "      <td>0.678939</td>\n",
       "      <td>0.289354</td>\n",
       "      <td>0.559515</td>\n",
       "      <td>0.402727</td>\n",
       "      <td>0.415489</td>\n",
       "      <td>0.311911</td>\n",
       "      <td>0.584923</td>\n",
       "      <td>0.0</td>\n",
       "    </tr>\n",
       "    <tr>\n",
       "      <th>3</th>\n",
       "      <td>0.941878</td>\n",
       "      <td>0.765304</td>\n",
       "      <td>0.868484</td>\n",
       "      <td>0.213661</td>\n",
       "      <td>0.765647</td>\n",
       "      <td>0.275559</td>\n",
       "      <td>0.266803</td>\n",
       "      <td>0.789434</td>\n",
       "      <td>0.414999</td>\n",
       "      <td>0.507585</td>\n",
       "      <td>0.271817</td>\n",
       "      <td>0.710910</td>\n",
       "      <td>0.487635</td>\n",
       "      <td>0.636372</td>\n",
       "      <td>0.289124</td>\n",
       "      <td>0.415653</td>\n",
       "      <td>0.711253</td>\n",
       "      <td>0.788492</td>\n",
       "      <td>0.467058</td>\n",
       "      <td>0.578050</td>\n",
       "      <td>0.559734</td>\n",
       "      <td>0.510277</td>\n",
       "      <td>0.662607</td>\n",
       "      <td>0.223826</td>\n",
       "      <td>0.614245</td>\n",
       "      <td>0.389197</td>\n",
       "      <td>0.417669</td>\n",
       "      <td>0.314371</td>\n",
       "      <td>0.475117</td>\n",
       "      <td>0.0</td>\n",
       "    </tr>\n",
       "    <tr>\n",
       "      <th>4</th>\n",
       "      <td>0.938617</td>\n",
       "      <td>0.776520</td>\n",
       "      <td>0.864251</td>\n",
       "      <td>0.269796</td>\n",
       "      <td>0.762975</td>\n",
       "      <td>0.263984</td>\n",
       "      <td>0.268968</td>\n",
       "      <td>0.782484</td>\n",
       "      <td>0.490950</td>\n",
       "      <td>0.524303</td>\n",
       "      <td>0.236355</td>\n",
       "      <td>0.724477</td>\n",
       "      <td>0.552509</td>\n",
       "      <td>0.608406</td>\n",
       "      <td>0.349419</td>\n",
       "      <td>0.434995</td>\n",
       "      <td>0.724243</td>\n",
       "      <td>0.650665</td>\n",
       "      <td>0.626060</td>\n",
       "      <td>0.584615</td>\n",
       "      <td>0.561327</td>\n",
       "      <td>0.547271</td>\n",
       "      <td>0.663392</td>\n",
       "      <td>0.401270</td>\n",
       "      <td>0.566343</td>\n",
       "      <td>0.507497</td>\n",
       "      <td>0.420561</td>\n",
       "      <td>0.317490</td>\n",
       "      <td>0.419792</td>\n",
       "      <td>0.0</td>\n",
       "    </tr>\n",
       "  </tbody>\n",
       "</table>\n",
       "</div>\n",
       "      <button class=\"colab-df-convert\" onclick=\"convertToInteractive('df-39bd2fb8-c5e3-490f-9551-1255702b8808')\"\n",
       "              title=\"Convert this dataframe to an interactive table.\"\n",
       "              style=\"display:none;\">\n",
       "        \n",
       "  <svg xmlns=\"http://www.w3.org/2000/svg\" height=\"24px\"viewBox=\"0 0 24 24\"\n",
       "       width=\"24px\">\n",
       "    <path d=\"M0 0h24v24H0V0z\" fill=\"none\"/>\n",
       "    <path d=\"M18.56 5.44l.94 2.06.94-2.06 2.06-.94-2.06-.94-.94-2.06-.94 2.06-2.06.94zm-11 1L8.5 8.5l.94-2.06 2.06-.94-2.06-.94L8.5 2.5l-.94 2.06-2.06.94zm10 10l.94 2.06.94-2.06 2.06-.94-2.06-.94-.94-2.06-.94 2.06-2.06.94z\"/><path d=\"M17.41 7.96l-1.37-1.37c-.4-.4-.92-.59-1.43-.59-.52 0-1.04.2-1.43.59L10.3 9.45l-7.72 7.72c-.78.78-.78 2.05 0 2.83L4 21.41c.39.39.9.59 1.41.59.51 0 1.02-.2 1.41-.59l7.78-7.78 2.81-2.81c.8-.78.8-2.07 0-2.86zM5.41 20L4 18.59l7.72-7.72 1.47 1.35L5.41 20z\"/>\n",
       "  </svg>\n",
       "      </button>\n",
       "      \n",
       "  <style>\n",
       "    .colab-df-container {\n",
       "      display:flex;\n",
       "      flex-wrap:wrap;\n",
       "      gap: 12px;\n",
       "    }\n",
       "\n",
       "    .colab-df-convert {\n",
       "      background-color: #E8F0FE;\n",
       "      border: none;\n",
       "      border-radius: 50%;\n",
       "      cursor: pointer;\n",
       "      display: none;\n",
       "      fill: #1967D2;\n",
       "      height: 32px;\n",
       "      padding: 0 0 0 0;\n",
       "      width: 32px;\n",
       "    }\n",
       "\n",
       "    .colab-df-convert:hover {\n",
       "      background-color: #E2EBFA;\n",
       "      box-shadow: 0px 1px 2px rgba(60, 64, 67, 0.3), 0px 1px 3px 1px rgba(60, 64, 67, 0.15);\n",
       "      fill: #174EA6;\n",
       "    }\n",
       "\n",
       "    [theme=dark] .colab-df-convert {\n",
       "      background-color: #3B4455;\n",
       "      fill: #D2E3FC;\n",
       "    }\n",
       "\n",
       "    [theme=dark] .colab-df-convert:hover {\n",
       "      background-color: #434B5C;\n",
       "      box-shadow: 0px 1px 3px 1px rgba(0, 0, 0, 0.15);\n",
       "      filter: drop-shadow(0px 1px 2px rgba(0, 0, 0, 0.3));\n",
       "      fill: #FFFFFF;\n",
       "    }\n",
       "  </style>\n",
       "\n",
       "      <script>\n",
       "        const buttonEl =\n",
       "          document.querySelector('#df-39bd2fb8-c5e3-490f-9551-1255702b8808 button.colab-df-convert');\n",
       "        buttonEl.style.display =\n",
       "          google.colab.kernel.accessAllowed ? 'block' : 'none';\n",
       "\n",
       "        async function convertToInteractive(key) {\n",
       "          const element = document.querySelector('#df-39bd2fb8-c5e3-490f-9551-1255702b8808');\n",
       "          const dataTable =\n",
       "            await google.colab.kernel.invokeFunction('convertToInteractive',\n",
       "                                                     [key], {});\n",
       "          if (!dataTable) return;\n",
       "\n",
       "          const docLinkHtml = 'Like what you see? Visit the ' +\n",
       "            '<a target=\"_blank\" href=https://colab.research.google.com/notebooks/data_table.ipynb>data table notebook</a>'\n",
       "            + ' to learn more about interactive tables.';\n",
       "          element.innerHTML = '';\n",
       "          dataTable['output_type'] = 'display_data';\n",
       "          await google.colab.output.renderOutput(dataTable, element);\n",
       "          const docLink = document.createElement('div');\n",
       "          docLink.innerHTML = docLinkHtml;\n",
       "          element.appendChild(docLink);\n",
       "        }\n",
       "      </script>\n",
       "    </div>\n",
       "  </div>\n",
       "  "
      ],
      "text/plain": [
       "         v1        v2        v3        v4  ...       v27       v28    amount  label\n",
       "0  0.935192  0.766490  0.881365  0.313023  ...  0.418976  0.312697  0.493873    0.0\n",
       "1  0.978542  0.770067  0.840298  0.271796  ...  0.416345  0.313423  0.128583    0.0\n",
       "2  0.935217  0.753118  0.868141  0.268766  ...  0.415489  0.311911  0.584923    0.0\n",
       "3  0.941878  0.765304  0.868484  0.213661  ...  0.417669  0.314371  0.475117    0.0\n",
       "4  0.938617  0.776520  0.864251  0.269796  ...  0.420561  0.317490  0.419792    0.0\n",
       "\n",
       "[5 rows x 30 columns]"
      ]
     },
     "execution_count": 13,
     "metadata": {},
     "output_type": "execute_result"
    }
   ],
   "source": [
    "# amount\n",
    "dataset['amount'] = np.log(dataset.amount + 1)\n",
    "\n",
    "# time\n",
    "dataset[\"time\"] = dataset[\"time\"].apply(lambda x : x / 3600 % 24)\n",
    "\n",
    "# drop time variable\n",
    "dataset = dataset.drop('time', axis=1)\n",
    "\n",
    "# scaler\n",
    "scaler = MinMaxScaler()\n",
    "colnames_all = list(dataset)\n",
    "dataset[colnames_all] = scaler.fit_transform(dataset[colnames_all])\n",
    "\n",
    "dataset.head()"
   ]
  },
  {
   "cell_type": "markdown",
   "metadata": {
    "id": "91lnjJIGmOHs"
   },
   "source": [
    "### Train-test split \n",
    "\n",
    "\n",
    "\n",
    "*   6:2:2\n",
    "*   array 형태로 바꿔주기\n",
    "\n",
    "\n",
    "\n"
   ]
  },
  {
   "cell_type": "code",
   "execution_count": null,
   "metadata": {
    "colab": {
     "base_uri": "https://localhost:8080/"
    },
    "id": "fFPhzd-_SLKb",
    "outputId": "0b699234-ac6c-44c6-d573-6c6f917ce079"
   },
   "outputs": [
    {
     "name": "stdout",
     "output_type": "stream",
     "text": [
      "(227845, 29) (227845,) (45569, 29) (45569,) (56962, 29) (56962,)\n"
     ]
    }
   ],
   "source": [
    "# train test split\n",
    "df_train_, df_test = train_test_split(dataset, test_size=0.2)\n",
    "df_train, df_valid = train_test_split(df_train_, test_size=0.2)\n",
    "\n",
    "x_train = df_train_.drop(['label'], axis = 1)\n",
    "y_train = df_train_[\"label\"].values\n",
    "\n",
    "x_valid = df_valid.drop(['label'], axis = 1)\n",
    "y_valid = df_valid[\"label\"].values\n",
    "\n",
    "x_test = df_test.drop(['label'], axis=1)\n",
    "y_test = df_test['label'].values\n",
    "\n",
    "print(x_train.shape, y_train.shape, x_valid.shape, y_valid.shape, x_test.shape, y_test.shape)"
   ]
  },
  {
   "cell_type": "code",
   "execution_count": null,
   "metadata": {
    "id": "k8tWNbFbSvCW"
   },
   "outputs": [],
   "source": [
    "x_train= x_train.to_numpy()\n",
    "x_valid= x_valid.to_numpy()\n",
    "x_test= x_test.to_numpy()\n"
   ]
  },
  {
   "cell_type": "markdown",
   "metadata": {
    "id": "M6GKkayHmkzX"
   },
   "source": [
    "### Pretrainer\n",
    "\n",
    "*   mask type: entmax 사용\n",
    "  - sparsemax의 일반화 모듈. sparse한 data에 사용하지만 sparsemax보다 부드러워 최적화에 더 알맞음\n",
    "\n",
    "\n",
    "\n"
   ]
  },
  {
   "cell_type": "code",
   "execution_count": null,
   "metadata": {
    "colab": {
     "base_uri": "https://localhost:8080/"
    },
    "id": "vrQYq90G9wrU",
    "outputId": "5c5480ed-7f5c-4896-fad1-26b04720585b"
   },
   "outputs": [
    {
     "name": "stdout",
     "output_type": "stream",
     "text": [
      "Device used : cpu\n",
      "epoch 0  | loss: 174.42772| val_0_unsup_loss: 1.10042 |  0:00:19s\n",
      "epoch 10 | loss: 1.06931 | val_0_unsup_loss: 1.06389 |  0:03:35s\n",
      "epoch 20 | loss: 1.10758 | val_0_unsup_loss: 1.21013 |  0:06:54s\n",
      "epoch 30 | loss: 1.03031 | val_0_unsup_loss: 1.01021 |  0:10:14s\n",
      "epoch 40 | loss: 1.05499 | val_0_unsup_loss: 1.0508  |  0:13:36s\n",
      "Stop training because you reached max_epochs = 50 with best_epoch = 37 and best_val_0_unsup_loss = 1.00387\n",
      "Best weights from best epoch are automatically used!\n"
     ]
    }
   ],
   "source": [
    "import matplotlib as plt\n",
    "from pytorch_tabnet.pretraining import TabNetPretrainer\n",
    "\n",
    "#TabNet Pretrainer\n",
    "\n",
    "max_epochs = 50\n",
    "\n",
    "pretrainer = TabNetPretrainer(\n",
    "    # cat_idxs=cat_idxs,\n",
    "    # cat_dims=cat_dims,\n",
    "    # cat_emb_dim=3,\n",
    "    optimizer_fn=torch.optim.Adam,\n",
    "    optimizer_params=dict(lr=2e-2),\n",
    "    mask_type='entmax', # \"sparsemax\",\n",
    "    n_steps=4,\n",
    "    n_shared=2,\n",
    "    n_independent=2,\n",
    "    scheduler_params=dict(mode=\"min\", #\n",
    "                          patience=5,\n",
    "                          min_lr=1e-5,\n",
    "                          factor=0.9,),\n",
    "    scheduler_fn=torch.optim.lr_scheduler.ReduceLROnPlateau,      #                   \n",
    "    verbose=10,\n",
    ")\n",
    "\n",
    "pretrainer.fit(\n",
    "    X_train=x_train,\n",
    "    eval_set=[x_valid],\n",
    "    max_epochs=max_epochs, patience=20,\n",
    "    batch_size=1024, virtual_batch_size=128,\n",
    "    num_workers=0,\n",
    "    drop_last=False,\n",
    "    pretraining_ratio=0.8,\n",
    ") \n",
    "\n",
    "reconstructed_X, embedded_X = pretrainer.predict(x_valid)\n",
    "assert(reconstructed_X.shape==embedded_X.shape)"
   ]
  },
  {
   "cell_type": "code",
   "execution_count": null,
   "metadata": {
    "colab": {
     "base_uri": "https://localhost:8080/",
     "height": 508
    },
    "id": "YidxMjQ6BQli",
    "outputId": "344e1225-a25f-46d7-bf53-dba5809f3324"
   },
   "outputs": [
    {
     "data": {
      "image/png": "[encoded data removed]",
      "text/plain": [
       "<Figure size 1440x1440 with 3 Axes>"
      ]
     },
     "metadata": {
      "needs_background": "light"
     },
     "output_type": "display_data"
    }
   ],
   "source": [
    "import matplotlib.pyplot as plt\n",
    "\n",
    "unsupervised_explain_matrix, unsupervised_masks = pretrainer.explain(x_valid)\n",
    "\n",
    "fig, axs = plt.subplots(1, 3, figsize=(20,20))\n",
    "\n",
    "for i in range(3):\n",
    "    axs[i].imshow(unsupervised_masks[i][:50])\n",
    "    axs[i].set_title(f\"mask {i}\")"
   ]
  },
  {
   "cell_type": "markdown",
   "metadata": {
    "id": "XtF5tM2UoG2O"
   },
   "source": [
    "### Modeling"
   ]
  },
  {
   "cell_type": "code",
   "execution_count": null,
   "metadata": {
    "colab": {
     "base_uri": "https://localhost:8080/"
    },
    "id": "D4I5ZCNZBXdS",
    "outputId": "6bba2510-6472-46fc-b2df-40adbd90b7fb"
   },
   "outputs": [
    {
     "name": "stdout",
     "output_type": "stream",
     "text": [
      "Device used : cpu\n"
     ]
    }
   ],
   "source": [
    "clf = TabNetClassifier(optimizer_fn=torch.optim.Adam,\n",
    "                       optimizer_params=dict(lr=2e-2),\n",
    "                       scheduler_params={\"step_size\":10, # how to use learning rate scheduler\n",
    "                                         \"gamma\":0.9},\n",
    "                       scheduler_fn=torch.optim.lr_scheduler.StepLR,\n",
    "                       mask_type='sparsemax' # This will be overwritten if using pretrain model\n",
    "                      )"
   ]
  },
  {
   "cell_type": "code",
   "execution_count": null,
   "metadata": {
    "colab": {
     "base_uri": "https://localhost:8080/"
    },
    "id": "OsNFv_x4Ba8D",
    "outputId": "a938d716-9156-4ceb-9959-f9a38955bef5"
   },
   "outputs": [
    {
     "name": "stderr",
     "output_type": "stream",
     "text": [
      "/usr/local/lib/python3.7/dist-packages/pytorch_tabnet/abstract_model.py:97: UserWarning: Pretraining: mask_type changed from sparsemax to entmax\n",
      "  warnings.warn(wrn_msg)\n",
      "/usr/local/lib/python3.7/dist-packages/pytorch_tabnet/abstract_model.py:97: UserWarning: Pretraining: n_steps changed from 3 to 4\n",
      "  warnings.warn(wrn_msg)\n"
     ]
    },
    {
     "name": "stdout",
     "output_type": "stream",
     "text": [
      "Loading weights from unsupervised pretraining\n",
      "epoch 0  | loss: 0.21547 | train_logloss: 0.21112 | valid_logloss: 0.21003 |  0:00:23s\n",
      "epoch 1  | loss: 0.10578 | train_logloss: 0.13908 | valid_logloss: 0.13995 |  0:00:46s\n",
      "epoch 2  | loss: 0.07764 | train_logloss: 0.06911 | valid_logloss: 0.06884 |  0:01:09s\n",
      "epoch 3  | loss: 0.06212 | train_logloss: 0.05123 | valid_logloss: 0.05053 |  0:01:32s\n",
      "epoch 4  | loss: 0.0535  | train_logloss: 0.04027 | valid_logloss: 0.03934 |  0:01:55s\n",
      "epoch 5  | loss: 0.04016 | train_logloss: 0.03843 | valid_logloss: 0.03762 |  0:02:18s\n",
      "epoch 6  | loss: 0.04797 | train_logloss: 0.04968 | valid_logloss: 0.0488  |  0:02:40s\n",
      "epoch 7  | loss: 0.03363 | train_logloss: 0.02692 | valid_logloss: 0.02479 |  0:03:03s\n",
      "epoch 8  | loss: 0.02718 | train_logloss: 0.03148 | valid_logloss: 0.0306  |  0:03:25s\n",
      "epoch 9  | loss: 0.02743 | train_logloss: 0.0169  | valid_logloss: 0.01493 |  0:03:48s\n",
      "epoch 10 | loss: 0.02091 | train_logloss: 0.01796 | valid_logloss: 0.01746 |  0:04:12s\n",
      "epoch 11 | loss: 0.01573 | train_logloss: 0.01368 | valid_logloss: 0.01314 |  0:04:43s\n",
      "epoch 12 | loss: 0.01714 | train_logloss: 0.0164  | valid_logloss: 0.01567 |  0:05:06s\n",
      "epoch 13 | loss: 0.01574 | train_logloss: 0.04069 | valid_logloss: 0.03822 |  0:05:30s\n",
      "epoch 14 | loss: 0.01441 | train_logloss: 0.01494 | valid_logloss: 0.01462 |  0:05:54s\n",
      "epoch 15 | loss: 0.01317 | train_logloss: 0.02318 | valid_logloss: 0.0241  |  0:06:18s\n",
      "epoch 16 | loss: 0.01335 | train_logloss: 0.01202 | valid_logloss: 0.01146 |  0:06:42s\n",
      "epoch 17 | loss: 0.01207 | train_logloss: 0.01702 | valid_logloss: 0.01615 |  0:07:06s\n",
      "epoch 18 | loss: 0.01454 | train_logloss: 0.01222 | valid_logloss: 0.01168 |  0:07:29s\n",
      "epoch 19 | loss: 0.01352 | train_logloss: 0.01479 | valid_logloss: 0.01374 |  0:07:52s\n",
      "epoch 20 | loss: 0.01051 | train_logloss: 0.01095 | valid_logloss: 0.01018 |  0:08:15s\n",
      "epoch 21 | loss: 0.01117 | train_logloss: 0.01245 | valid_logloss: 0.01046 |  0:08:37s\n",
      "epoch 22 | loss: 0.01091 | train_logloss: 0.01405 | valid_logloss: 0.01305 |  0:09:00s\n",
      "epoch 23 | loss: 0.01007 | train_logloss: 0.011   | valid_logloss: 0.01065 |  0:09:22s\n",
      "epoch 24 | loss: 0.01087 | train_logloss: 0.00939 | valid_logloss: 0.00889 |  0:09:45s\n",
      "epoch 25 | loss: 0.00863 | train_logloss: 0.008   | valid_logloss: 0.00708 |  0:10:07s\n",
      "epoch 26 | loss: 0.01185 | train_logloss: 0.00791 | valid_logloss: 0.00679 |  0:10:30s\n",
      "epoch 27 | loss: 0.01009 | train_logloss: 0.01363 | valid_logloss: 0.01204 |  0:10:53s\n",
      "epoch 28 | loss: 0.00853 | train_logloss: 0.01639 | valid_logloss: 0.01477 |  0:11:15s\n",
      "epoch 29 | loss: 0.01064 | train_logloss: 0.01626 | valid_logloss: 0.01646 |  0:11:38s\n",
      "epoch 30 | loss: 0.00882 | train_logloss: 0.00605 | valid_logloss: 0.00555 |  0:12:01s\n",
      "epoch 31 | loss: 0.00682 | train_logloss: 0.0063  | valid_logloss: 0.00541 |  0:12:23s\n",
      "epoch 32 | loss: 0.00735 | train_logloss: 0.01228 | valid_logloss: 0.0101  |  0:12:46s\n",
      "epoch 33 | loss: 0.00733 | train_logloss: 0.00733 | valid_logloss: 0.00624 |  0:13:09s\n",
      "epoch 34 | loss: 0.00618 | train_logloss: 0.00923 | valid_logloss: 0.00753 |  0:13:31s\n",
      "epoch 35 | loss: 0.00715 | train_logloss: 0.00504 | valid_logloss: 0.00425 |  0:13:55s\n",
      "epoch 36 | loss: 0.00753 | train_logloss: 0.01204 | valid_logloss: 0.01113 |  0:14:19s\n",
      "epoch 37 | loss: 0.00912 | train_logloss: 0.00866 | valid_logloss: 0.00788 |  0:14:43s\n",
      "epoch 38 | loss: 0.00755 | train_logloss: 0.00536 | valid_logloss: 0.00497 |  0:15:06s\n",
      "epoch 39 | loss: 0.00609 | train_logloss: 0.00595 | valid_logloss: 0.00488 |  0:15:29s\n",
      "epoch 40 | loss: 0.00652 | train_logloss: 0.00536 | valid_logloss: 0.00494 |  0:15:53s\n",
      "epoch 41 | loss: 0.00738 | train_logloss: 0.00474 | valid_logloss: 0.00369 |  0:16:16s\n",
      "epoch 42 | loss: 0.00792 | train_logloss: 0.00708 | valid_logloss: 0.00645 |  0:16:39s\n",
      "epoch 43 | loss: 0.00821 | train_logloss: 0.00649 | valid_logloss: 0.00492 |  0:17:02s\n",
      "epoch 44 | loss: 0.00625 | train_logloss: 0.0094  | valid_logloss: 0.00806 |  0:17:25s\n",
      "epoch 45 | loss: 0.00662 | train_logloss: 0.00467 | valid_logloss: 0.00341 |  0:17:53s\n",
      "epoch 46 | loss: 0.00558 | train_logloss: 0.00484 | valid_logloss: 0.00369 |  0:18:16s\n",
      "epoch 47 | loss: 0.00532 | train_logloss: 0.00609 | valid_logloss: 0.00476 |  0:18:39s\n",
      "epoch 48 | loss: 0.00567 | train_logloss: 0.00452 | valid_logloss: 0.00387 |  0:19:02s\n",
      "epoch 49 | loss: 0.00573 | train_logloss: 0.00612 | valid_logloss: 0.00522 |  0:19:25s\n",
      "Stop training because you reached max_epochs = 50 with best_epoch = 45 and best_valid_logloss = 0.00341\n",
      "Best weights from best epoch are automatically used!\n"
     ]
    }
   ],
   "source": [
    "clf.fit(\n",
    "    X_train=x_train, y_train=y_train,\n",
    "    eval_set=[(x_train, y_train), (x_valid, y_valid)],\n",
    "    eval_name=['train', 'valid'],\n",
    "    eval_metric=['logloss'],\n",
    "    max_epochs=max_epochs , patience=20,\n",
    "    batch_size=1024, virtual_batch_size=128,\n",
    "    num_workers=0,\n",
    "    weights=1,\n",
    "    drop_last=False,\n",
    "    from_unsupervised= pretrainer,\n",
    ") "
   ]
  },
  {
   "cell_type": "markdown",
   "metadata": {
    "id": "8qagKwsmoXiY"
   },
   "source": [
    "### Loss "
   ]
  },
  {
   "cell_type": "code",
   "execution_count": null,
   "metadata": {
    "colab": {
     "base_uri": "https://localhost:8080/",
     "height": 282
    },
    "id": "W_pnEfwjCCsy",
    "outputId": "1234ca86-abaa-4c65-8d5d-4594e01cf5a1"
   },
   "outputs": [
    {
     "data": {
      "text/plain": [
       "[<matplotlib.lines.Line2D at 0x7ff84327e910>]"
      ]
     },
     "execution_count": 25,
     "metadata": {},
     "output_type": "execute_result"
    },
    {
     "data": {
      "image/png": "[encoded data removed]",
      "text/plain": [
       "<Figure size 432x288 with 1 Axes>"
      ]
     },
     "metadata": {
      "needs_background": "light"
     },
     "output_type": "display_data"
    }
   ],
   "source": [
    "plt.plot(clf.history['loss'])"
   ]
  },
  {
   "cell_type": "code",
   "execution_count": null,
   "metadata": {
    "colab": {
     "base_uri": "https://localhost:8080/",
     "height": 282
    },
    "id": "x5CJH_f3CEw8",
    "outputId": "6c4e04dc-29c7-4a6b-b290-ad5e2ce305e4"
   },
   "outputs": [
    {
     "data": {
      "text/plain": [
       "[<matplotlib.lines.Line2D at 0x7ff842f04810>]"
      ]
     },
     "execution_count": 26,
     "metadata": {},
     "output_type": "execute_result"
    },
    {
     "data": {
      "image/png": "[encoded data removed]",
      "text/plain": [
       "<Figure size 432x288 with 1 Axes>"
      ]
     },
     "metadata": {
      "needs_background": "light"
     },
     "output_type": "display_data"
    }
   ],
   "source": [
    "plt.plot(clf.history['train_logloss'])\n",
    "plt.plot(clf.history['valid_logloss'])"
   ]
  },
  {
   "cell_type": "markdown",
   "metadata": {
    "id": "_pUW3uDS1ZWT"
   },
   "source": [
    "### Performances / Prediction"
   ]
  },
  {
   "cell_type": "markdown",
   "metadata": {
    "id": "6HaHu54B14ly"
   },
   "source": [
    "#### Validation set\n",
    "\n"
   ]
  },
  {
   "cell_type": "code",
   "execution_count": null,
   "metadata": {
    "id": "rLGpAsaZ123N"
   },
   "outputs": [],
   "source": [
    "preds_valid = clf.predict_proba(x_valid) #valid set\n",
    "preds_valid_ = preds_valid[:,1]\n",
    "pred_valid =[ 0 if i < 0.5 else 1 for i in preds_valid_]\n",
    "\n",
    "# valid_auc = roc_auc_score(y_score=preds_valid[:,1], y_true=y_valid) #valid set"
   ]
  },
  {
   "cell_type": "code",
   "execution_count": null,
   "metadata": {
    "colab": {
     "base_uri": "https://localhost:8080/"
    },
    "id": "oBxh4goBHf_B",
    "outputId": "d694268b-3765-47d5-c88b-0e23c72b03fe"
   },
   "outputs": [
    {
     "data": {
      "text/plain": [
       "array([[45453,    37],\n",
       "       [    0,    79]])"
      ]
     },
     "execution_count": 28,
     "metadata": {},
     "output_type": "execute_result"
    }
   ],
   "source": [
    "confusion_matrix(y_valid, pred_valid)"
   ]
  },
  {
   "cell_type": "code",
   "execution_count": null,
   "metadata": {
    "colab": {
     "base_uri": "https://localhost:8080/"
    },
    "id": "IeUEqUbc4CGM",
    "outputId": "41cbd80d-8688-4c56-9100-f9c869399da1"
   },
   "outputs": [
    {
     "name": "stdout",
     "output_type": "stream",
     "text": [
      "Recall for 'Fraud Detection' : 1.0\n",
      "F1 score for 'Fraud Detection' : 0.8102564102564103\n"
     ]
    }
   ],
   "source": [
    "r = recall_score(y_valid, pred_valid)\n",
    "print(f\"Recall for 'Fraud Detection' : {r}\")\n",
    "f1 = f1_score(y_valid, pred_valid)\n",
    "print(f\"F1 score for 'Fraud Detection' : {f1}\")"
   ]
  },
  {
   "cell_type": "markdown",
   "metadata": {
    "id": "wJZkBiGO2lK0"
   },
   "source": [
    "#### Predition set"
   ]
  },
  {
   "cell_type": "code",
   "execution_count": null,
   "metadata": {
    "id": "QuyvSJ6BCLD7"
   },
   "outputs": [],
   "source": [
    "preds = clf.predict_proba(x_test) #\n",
    "test_pred_ = preds[:,1]\n",
    "test_pred =[ 0 if i < 0.5 else 1 for i in test_pred_]"
   ]
  },
  {
   "cell_type": "code",
   "execution_count": null,
   "metadata": {
    "colab": {
     "base_uri": "https://localhost:8080/"
    },
    "id": "6EBBWV9R1mVa",
    "outputId": "bc914fd1-cc99-4c39-fde5-2d65e3176299"
   },
   "outputs": [
    {
     "data": {
      "text/plain": [
       "array([[56766,    92],\n",
       "       [   18,    86]])"
      ]
     },
     "execution_count": 31,
     "metadata": {},
     "output_type": "execute_result"
    }
   ],
   "source": [
    "confusion_matrix(y_test, test_pred)"
   ]
  },
  {
   "cell_type": "code",
   "execution_count": null,
   "metadata": {
    "colab": {
     "base_uri": "https://localhost:8080/"
    },
    "id": "mgPsdNH1IwPl",
    "outputId": "9c762c04-dc57-429f-d029-c6b12b9eb4e3"
   },
   "outputs": [
    {
     "name": "stdout",
     "output_type": "stream",
     "text": [
      "Recall for 'Fraud Detection' : 0.8269230769230769\n",
      "F1 score for 'Fraud Detection' : 0.6099290780141844\n"
     ]
    }
   ],
   "source": [
    "r = recall_score(y_test, test_pred)\n",
    "print(f\"Recall for 'Fraud Detection' : {r}\")\n",
    "f1 = f1_score(y_test, test_pred)\n",
    "print(f\"F1 score for 'Fraud Detection' : {f1}\")"
   ]
  },
  {
   "cell_type": "code",
   "execution_count": null,
   "metadata": {
    "colab": {
     "base_uri": "https://localhost:8080/"
    },
    "id": "29fPYivv-OHH",
    "outputId": "28ed996f-4cda-4563-a51e-be36d40b3c6b"
   },
   "outputs": [
    {
     "data": {
      "text/plain": [
       "N    56784\n",
       "Y      178\n",
       "dtype: int64"
      ]
     },
     "execution_count": 33,
     "metadata": {},
     "output_type": "execute_result"
    }
   ],
   "source": [
    "test_pred = preds[:,1]\n",
    "predictions =[ 'N' if i < 0.5 else 'Y' for i in test_pred]\n",
    "pd.value_counts(predictions)"
   ]
  },
  {
   "cell_type": "markdown",
   "metadata": {
    "id": "PKHhNpd047ju"
   },
   "source": [
    "### Importance features : self-supervised learning"
   ]
  },
  {
   "cell_type": "code",
   "execution_count": null,
   "metadata": {
    "colab": {
     "base_uri": "https://localhost:8080/",
     "height": 206
    },
    "id": "A3fIy5YR7FDq",
    "outputId": "1d315093-7608-4591-a8a3-8c91fdf25e65"
   },
   "outputs": [
    {
     "data": {
      "text/html": [
       "\n",
       "  <div id=\"df-ebf9b91b-599a-449a-a99f-13aaffb72127\">\n",
       "    <div class=\"colab-df-container\">\n",
       "      <div>\n",
       "<style scoped>\n",
       "    .dataframe tbody tr th:only-of-type {\n",
       "        vertical-align: middle;\n",
       "    }\n",
       "\n",
       "    .dataframe tbody tr th {\n",
       "        vertical-align: top;\n",
       "    }\n",
       "\n",
       "    .dataframe thead th {\n",
       "        text-align: right;\n",
       "    }\n",
       "</style>\n",
       "<table border=\"1\" class=\"dataframe\">\n",
       "  <thead>\n",
       "    <tr style=\"text-align: right;\">\n",
       "      <th></th>\n",
       "      <th>importance_self</th>\n",
       "    </tr>\n",
       "  </thead>\n",
       "  <tbody>\n",
       "    <tr>\n",
       "      <th>v16</th>\n",
       "      <td>0.198098</td>\n",
       "    </tr>\n",
       "    <tr>\n",
       "      <th>v9</th>\n",
       "      <td>0.191061</td>\n",
       "    </tr>\n",
       "    <tr>\n",
       "      <th>v14</th>\n",
       "      <td>0.135929</td>\n",
       "    </tr>\n",
       "    <tr>\n",
       "      <th>v18</th>\n",
       "      <td>0.075353</td>\n",
       "    </tr>\n",
       "    <tr>\n",
       "      <th>v1</th>\n",
       "      <td>0.073322</td>\n",
       "    </tr>\n",
       "  </tbody>\n",
       "</table>\n",
       "</div>\n",
       "      <button class=\"colab-df-convert\" onclick=\"convertToInteractive('df-ebf9b91b-599a-449a-a99f-13aaffb72127')\"\n",
       "              title=\"Convert this dataframe to an interactive table.\"\n",
       "              style=\"display:none;\">\n",
       "        \n",
       "  <svg xmlns=\"http://www.w3.org/2000/svg\" height=\"24px\"viewBox=\"0 0 24 24\"\n",
       "       width=\"24px\">\n",
       "    <path d=\"M0 0h24v24H0V0z\" fill=\"none\"/>\n",
       "    <path d=\"M18.56 5.44l.94 2.06.94-2.06 2.06-.94-2.06-.94-.94-2.06-.94 2.06-2.06.94zm-11 1L8.5 8.5l.94-2.06 2.06-.94-2.06-.94L8.5 2.5l-.94 2.06-2.06.94zm10 10l.94 2.06.94-2.06 2.06-.94-2.06-.94-.94-2.06-.94 2.06-2.06.94z\"/><path d=\"M17.41 7.96l-1.37-1.37c-.4-.4-.92-.59-1.43-.59-.52 0-1.04.2-1.43.59L10.3 9.45l-7.72 7.72c-.78.78-.78 2.05 0 2.83L4 21.41c.39.39.9.59 1.41.59.51 0 1.02-.2 1.41-.59l7.78-7.78 2.81-2.81c.8-.78.8-2.07 0-2.86zM5.41 20L4 18.59l7.72-7.72 1.47 1.35L5.41 20z\"/>\n",
       "  </svg>\n",
       "      </button>\n",
       "      \n",
       "  <style>\n",
       "    .colab-df-container {\n",
       "      display:flex;\n",
       "      flex-wrap:wrap;\n",
       "      gap: 12px;\n",
       "    }\n",
       "\n",
       "    .colab-df-convert {\n",
       "      background-color: #E8F0FE;\n",
       "      border: none;\n",
       "      border-radius: 50%;\n",
       "      cursor: pointer;\n",
       "      display: none;\n",
       "      fill: #1967D2;\n",
       "      height: 32px;\n",
       "      padding: 0 0 0 0;\n",
       "      width: 32px;\n",
       "    }\n",
       "\n",
       "    .colab-df-convert:hover {\n",
       "      background-color: #E2EBFA;\n",
       "      box-shadow: 0px 1px 2px rgba(60, 64, 67, 0.3), 0px 1px 3px 1px rgba(60, 64, 67, 0.15);\n",
       "      fill: #174EA6;\n",
       "    }\n",
       "\n",
       "    [theme=dark] .colab-df-convert {\n",
       "      background-color: #3B4455;\n",
       "      fill: #D2E3FC;\n",
       "    }\n",
       "\n",
       "    [theme=dark] .colab-df-convert:hover {\n",
       "      background-color: #434B5C;\n",
       "      box-shadow: 0px 1px 3px 1px rgba(0, 0, 0, 0.15);\n",
       "      filter: drop-shadow(0px 1px 2px rgba(0, 0, 0, 0.3));\n",
       "      fill: #FFFFFF;\n",
       "    }\n",
       "  </style>\n",
       "\n",
       "      <script>\n",
       "        const buttonEl =\n",
       "          document.querySelector('#df-ebf9b91b-599a-449a-a99f-13aaffb72127 button.colab-df-convert');\n",
       "        buttonEl.style.display =\n",
       "          google.colab.kernel.accessAllowed ? 'block' : 'none';\n",
       "\n",
       "        async function convertToInteractive(key) {\n",
       "          const element = document.querySelector('#df-ebf9b91b-599a-449a-a99f-13aaffb72127');\n",
       "          const dataTable =\n",
       "            await google.colab.kernel.invokeFunction('convertToInteractive',\n",
       "                                                     [key], {});\n",
       "          if (!dataTable) return;\n",
       "\n",
       "          const docLinkHtml = 'Like what you see? Visit the ' +\n",
       "            '<a target=\"_blank\" href=https://colab.research.google.com/notebooks/data_table.ipynb>data table notebook</a>'\n",
       "            + ' to learn more about interactive tables.';\n",
       "          element.innerHTML = '';\n",
       "          dataTable['output_type'] = 'display_data';\n",
       "          await google.colab.output.renderOutput(dataTable, element);\n",
       "          const docLink = document.createElement('div');\n",
       "          docLink.innerHTML = docLinkHtml;\n",
       "          element.appendChild(docLink);\n",
       "        }\n",
       "      </script>\n",
       "    </div>\n",
       "  </div>\n",
       "  "
      ],
      "text/plain": [
       "     importance_self\n",
       "v16         0.198098\n",
       "v9          0.191061\n",
       "v14         0.135929\n",
       "v18         0.075353\n",
       "v1          0.073322"
      ]
     },
     "execution_count": 34,
     "metadata": {},
     "output_type": "execute_result"
    }
   ],
   "source": [
    "colnames_train = colnames_all.remove('label')\n",
    "importance_tabNet_self = pd.DataFrame(clf.feature_importances_,index=colnames_all).sort_values(0, ascending = False)\n",
    "importance_tabNet_self.columns = [\"importance_self\"]\n",
    "importance_tabNet_self.head()"
   ]
  },
  {
   "cell_type": "code",
   "execution_count": null,
   "metadata": {
    "id": "hBScPL4_qOQw"
   },
   "outputs": [],
   "source": [
    "explain_matrix, masks = clf.explain(x_test)"
   ]
  },
  {
   "cell_type": "code",
   "execution_count": null,
   "metadata": {
    "colab": {
     "base_uri": "https://localhost:8080/",
     "height": 508
    },
    "id": "0e8_8iDeGqAm",
    "outputId": "68c2f4c4-df85-4217-c6e8-d7fc787e1f55"
   },
   "outputs": [
    {
     "data": {
      "image/png": "[encoded data removed]",
      "text/plain": [
       "<Figure size 1440x1440 with 3 Axes>"
      ]
     },
     "metadata": {
      "needs_background": "light"
     },
     "output_type": "display_data"
    }
   ],
   "source": [
    "fig, axs = plt.subplots(1, 3, figsize=(20,20))\n",
    "\n",
    "for i in range(3):\n",
    "    axs[i].imshow(masks[i][:50])\n",
    "    axs[i].set_title(f\"mask {i}\")"
   ]
  },
  {
   "cell_type": "markdown",
   "metadata": {
    "id": "nRE7KabsDzhn"
   },
   "source": [
    "## Supervised learning without pretraining"
   ]
  },
  {
   "cell_type": "code",
   "execution_count": null,
   "metadata": {
    "colab": {
     "base_uri": "https://localhost:8080/"
    },
    "id": "JNfzgup_Ev-K",
    "outputId": "d89f8db7-dfdb-43b3-8771-9216311b0421"
   },
   "outputs": [
    {
     "name": "stdout",
     "output_type": "stream",
     "text": [
      "Device used : cpu\n"
     ]
    }
   ],
   "source": [
    "clf2 = TabNetClassifier(optimizer_fn=torch.optim.Adam,\n",
    "                       optimizer_params=dict(lr=2e-2),\n",
    "                       scheduler_params={\"step_size\":10, # how to use learning rate scheduler\n",
    "                                         \"gamma\":0.9},\n",
    "                       scheduler_fn=torch.optim.lr_scheduler.StepLR,\n",
    "                       mask_type='sparsemax' # This will be overwritten if using pretrain model\n",
    "                      )"
   ]
  },
  {
   "cell_type": "code",
   "execution_count": null,
   "metadata": {
    "colab": {
     "base_uri": "https://localhost:8080/"
    },
    "id": "heJkvCuYC1eV",
    "outputId": "50bee025-ba4c-47f7-af5d-3491d1a9a7ff"
   },
   "outputs": [
    {
     "name": "stdout",
     "output_type": "stream",
     "text": [
      "epoch 0  | loss: 0.15672 | train_logloss: 0.51158 | valid_logloss: 0.51285 |  0:00:22s\n",
      "epoch 1  | loss: 0.07019 | train_logloss: 0.09215 | valid_logloss: 0.09435 |  0:00:40s\n",
      "epoch 2  | loss: 0.05109 | train_logloss: 0.04141 | valid_logloss: 0.04213 |  0:00:57s\n",
      "epoch 3  | loss: 0.04604 | train_logloss: 0.04362 | valid_logloss: 0.04501 |  0:01:15s\n",
      "epoch 4  | loss: 0.03886 | train_logloss: 0.02756 | valid_logloss: 0.02899 |  0:01:33s\n",
      "epoch 5  | loss: 0.02929 | train_logloss: 0.03215 | valid_logloss: 0.03369 |  0:01:52s\n",
      "epoch 6  | loss: 0.02504 | train_logloss: 0.02497 | valid_logloss: 0.02657 |  0:02:10s\n",
      "epoch 7  | loss: 0.02518 | train_logloss: 0.0262  | valid_logloss: 0.02854 |  0:02:28s\n",
      "epoch 8  | loss: 0.02153 | train_logloss: 0.03331 | valid_logloss: 0.03408 |  0:02:47s\n",
      "epoch 9  | loss: 0.02015 | train_logloss: 0.03228 | valid_logloss: 0.03333 |  0:03:05s\n",
      "epoch 10 | loss: 0.0246  | train_logloss: 0.01613 | valid_logloss: 0.0164  |  0:03:23s\n",
      "epoch 11 | loss: 0.01829 | train_logloss: 0.01731 | valid_logloss: 0.01798 |  0:03:41s\n",
      "epoch 12 | loss: 0.01542 | train_logloss: 0.01164 | valid_logloss: 0.01164 |  0:03:58s\n",
      "epoch 13 | loss: 0.01738 | train_logloss: 0.01481 | valid_logloss: 0.01494 |  0:04:16s\n",
      "epoch 14 | loss: 0.02099 | train_logloss: 0.01474 | valid_logloss: 0.01454 |  0:04:34s\n",
      "epoch 15 | loss: 0.01725 | train_logloss: 0.026   | valid_logloss: 0.02435 |  0:04:52s\n",
      "epoch 16 | loss: 0.01957 | train_logloss: 0.02389 | valid_logloss: 0.02336 |  0:05:10s\n",
      "epoch 17 | loss: 0.01347 | train_logloss: 0.0093  | valid_logloss: 0.00929 |  0:05:27s\n",
      "epoch 18 | loss: 0.01023 | train_logloss: 0.01877 | valid_logloss: 0.01841 |  0:05:45s\n",
      "epoch 19 | loss: 0.01508 | train_logloss: 0.0099  | valid_logloss: 0.00976 |  0:06:03s\n",
      "epoch 20 | loss: 0.0146  | train_logloss: 0.02527 | valid_logloss: 0.02545 |  0:06:21s\n",
      "epoch 21 | loss: 0.01204 | train_logloss: 0.01218 | valid_logloss: 0.01234 |  0:06:38s\n",
      "epoch 22 | loss: 0.00936 | train_logloss: 0.01574 | valid_logloss: 0.01616 |  0:06:59s\n",
      "epoch 23 | loss: 0.01096 | train_logloss: 0.00991 | valid_logloss: 0.00983 |  0:07:16s\n",
      "epoch 24 | loss: 0.01416 | train_logloss: 0.01878 | valid_logloss: 0.01932 |  0:07:34s\n",
      "epoch 25 | loss: 0.01334 | train_logloss: 0.01584 | valid_logloss: 0.01692 |  0:07:52s\n",
      "epoch 26 | loss: 0.00925 | train_logloss: 0.01482 | valid_logloss: 0.01533 |  0:08:10s\n",
      "epoch 27 | loss: 0.00965 | train_logloss: 0.01417 | valid_logloss: 0.01457 |  0:08:27s\n",
      "epoch 28 | loss: 0.00798 | train_logloss: 0.01047 | valid_logloss: 0.01075 |  0:08:45s\n",
      "epoch 29 | loss: 0.00816 | train_logloss: 0.01544 | valid_logloss: 0.01509 |  0:09:02s\n",
      "epoch 30 | loss: 0.00881 | train_logloss: 0.00969 | valid_logloss: 0.0091  |  0:09:20s\n",
      "epoch 31 | loss: 0.00895 | train_logloss: 0.00844 | valid_logloss: 0.00824 |  0:09:37s\n",
      "epoch 32 | loss: 0.00858 | train_logloss: 0.01244 | valid_logloss: 0.01271 |  0:09:55s\n",
      "epoch 33 | loss: 0.00921 | train_logloss: 0.0126  | valid_logloss: 0.0117  |  0:10:13s\n",
      "epoch 34 | loss: 0.00823 | train_logloss: 0.00806 | valid_logloss: 0.00755 |  0:10:30s\n",
      "epoch 35 | loss: 0.00904 | train_logloss: 0.0113  | valid_logloss: 0.01091 |  0:10:48s\n",
      "epoch 36 | loss: 0.01058 | train_logloss: 0.00903 | valid_logloss: 0.0093  |  0:11:06s\n",
      "epoch 37 | loss: 0.01042 | train_logloss: 0.00667 | valid_logloss: 0.00602 |  0:11:24s\n",
      "epoch 38 | loss: 0.0082  | train_logloss: 0.01044 | valid_logloss: 0.00959 |  0:11:42s\n",
      "epoch 39 | loss: 0.00815 | train_logloss: 0.00999 | valid_logloss: 0.00896 |  0:12:00s\n",
      "epoch 40 | loss: 0.00611 | train_logloss: 0.00827 | valid_logloss: 0.00793 |  0:12:17s\n",
      "epoch 41 | loss: 0.00699 | train_logloss: 0.00548 | valid_logloss: 0.00489 |  0:12:35s\n",
      "epoch 42 | loss: 0.00592 | train_logloss: 0.00694 | valid_logloss: 0.00638 |  0:12:53s\n",
      "epoch 43 | loss: 0.00751 | train_logloss: 0.00584 | valid_logloss: 0.00563 |  0:13:12s\n",
      "epoch 44 | loss: 0.00624 | train_logloss: 0.00947 | valid_logloss: 0.0091  |  0:13:31s\n",
      "epoch 45 | loss: 0.0066  | train_logloss: 0.01267 | valid_logloss: 0.01328 |  0:13:49s\n",
      "epoch 46 | loss: 0.00771 | train_logloss: 0.00485 | valid_logloss: 0.00466 |  0:14:07s\n",
      "epoch 47 | loss: 0.00675 | train_logloss: 0.00646 | valid_logloss: 0.00573 |  0:14:26s\n",
      "epoch 48 | loss: 0.00738 | train_logloss: 0.00609 | valid_logloss: 0.0054  |  0:14:44s\n",
      "epoch 49 | loss: 0.00616 | train_logloss: 0.00673 | valid_logloss: 0.00654 |  0:15:03s\n",
      "Stop training because you reached max_epochs = 50 with best_epoch = 46 and best_valid_logloss = 0.00466\n",
      "Best weights from best epoch are automatically used!\n"
     ]
    }
   ],
   "source": [
    "### 참고용 : supervised learning without pretraining\n",
    "\n",
    "clf2.fit(\n",
    "    X_train=x_train, y_train=y_train,\n",
    "    eval_set=[(x_train, y_train), (x_valid, y_valid)],\n",
    "    eval_name=['train', 'valid'],\n",
    "    eval_metric=['logloss'],\n",
    "    max_epochs=max_epochs , patience=20,\n",
    "    batch_size=1024, virtual_batch_size=128,\n",
    "    num_workers=0,\n",
    "    weights=1,\n",
    "    drop_last=False,\n",
    "    # from_unsupervised= pretrainer,\n",
    "    # loss_fn=torch.nn.functional.CrossEntropyLoss\n",
    "    ) "
   ]
  },
  {
   "cell_type": "code",
   "execution_count": null,
   "metadata": {
    "colab": {
     "base_uri": "https://localhost:8080/",
     "height": 282
    },
    "id": "HqOeyPhEEyeg",
    "outputId": "a81cb4f9-944d-4859-fdcd-8f10f81c565e"
   },
   "outputs": [
    {
     "data": {
      "text/plain": [
       "<matplotlib.legend.Legend at 0x7ff842eaa5d0>"
      ]
     },
     "execution_count": 47,
     "metadata": {},
     "output_type": "execute_result"
    },
    {
     "data": {
      "image/png": "[encoded data removed]",
      "text/plain": [
       "<Figure size 432x288 with 1 Axes>"
      ]
     },
     "metadata": {
      "needs_background": "light"
     },
     "output_type": "display_data"
    }
   ],
   "source": [
    "plt.plot(clf.history['loss'], label='with pretraining')\n",
    "plt.plot(clf2.history['loss'], label='without pretraining')\n",
    "plt.legend()"
   ]
  },
  {
   "cell_type": "code",
   "execution_count": null,
   "metadata": {
    "colab": {
     "base_uri": "https://localhost:8080/",
     "height": 282
    },
    "id": "VOuERH6YFbK3",
    "outputId": "947ca268-bfec-4df6-d049-5d2dbd11c1cc"
   },
   "outputs": [
    {
     "data": {
      "text/plain": [
       "<matplotlib.legend.Legend at 0x7ff842854990>"
      ]
     },
     "execution_count": 48,
     "metadata": {},
     "output_type": "execute_result"
    },
    {
     "data": {
      "image/png": "[encoded data removed]",
      "text/plain": [
       "<Figure size 432x288 with 1 Axes>"
      ]
     },
     "metadata": {
      "needs_background": "light"
     },
     "output_type": "display_data"
    }
   ],
   "source": [
    "plt.plot(clf.history['train_logloss'], label='self-supervised training loss')\n",
    "plt.plot(clf.history['valid_logloss'], label='self-supervised validation loss')\n",
    "plt.plot(clf2.history['train_logloss'], label='supervised training loss')\n",
    "plt.plot(clf2.history['valid_logloss'], label='supervised validation loss')\n",
    "plt.legend()"
   ]
  },
  {
   "cell_type": "code",
   "execution_count": null,
   "metadata": {
    "colab": {
     "base_uri": "https://localhost:8080/"
    },
    "id": "yjFTW4J0UF3w",
    "outputId": "8a6f9d0c-633d-46bf-8f61-b22b47498bd1"
   },
   "outputs": [
    {
     "data": {
      "text/plain": [
       "array([[45435,    55],\n",
       "       [    0,    79]])"
      ]
     },
     "execution_count": 49,
     "metadata": {},
     "output_type": "execute_result"
    }
   ],
   "source": [
    "preds_valid2 = clf2.predict_proba(x_valid) #valid set\n",
    "preds_valid_2 = preds_valid2[:,1]\n",
    "pred_valid2 =[ 0 if i < 0.5 else 1 for i in preds_valid_2]\n",
    "\n",
    "confusion_matrix(y_valid, pred_valid2)"
   ]
  },
  {
   "cell_type": "code",
   "execution_count": null,
   "metadata": {
    "colab": {
     "base_uri": "https://localhost:8080/"
    },
    "id": "9nXyyr4TUM0J",
    "outputId": "2d552ea0-ee5e-4852-923b-579cd2d58d1b"
   },
   "outputs": [
    {
     "name": "stdout",
     "output_type": "stream",
     "text": [
      "Recall for 'Fraud Detection' : 1.0\n",
      "F1 score for 'Fraud Detection' : 0.7417840375586855\n"
     ]
    }
   ],
   "source": [
    "r2 = recall_score(y_valid, pred_valid2)\n",
    "print(f\"Recall for 'Fraud Detection' : {r2}\")\n",
    "f12 = f1_score(y_valid, pred_valid2)\n",
    "print(f\"F1 score for 'Fraud Detection' : {f12}\")"
   ]
  },
  {
   "cell_type": "code",
   "execution_count": null,
   "metadata": {
    "id": "pcddNE1EFk27"
   },
   "outputs": [],
   "source": [
    "preds2 = clf2.predict_proba(x_test)\n",
    "test_pred_2 = preds2[:,1]\n",
    "test_pred2 =[ 0 if i < 0.5 else 1 for i in test_pred_2]"
   ]
  },
  {
   "cell_type": "code",
   "execution_count": null,
   "metadata": {
    "colab": {
     "base_uri": "https://localhost:8080/"
    },
    "id": "CkomvSFaUp7o",
    "outputId": "d02547e6-a9b5-411a-ea13-8737d4d5e1fc"
   },
   "outputs": [
    {
     "data": {
      "text/plain": [
       "array([[56768,    90],\n",
       "       [   20,    84]])"
      ]
     },
     "execution_count": 52,
     "metadata": {},
     "output_type": "execute_result"
    }
   ],
   "source": [
    "confusion_matrix(y_test, test_pred2)"
   ]
  },
  {
   "cell_type": "code",
   "execution_count": null,
   "metadata": {
    "colab": {
     "base_uri": "https://localhost:8080/"
    },
    "id": "UplSUqrjUvwL",
    "outputId": "49b47f55-6d54-4c86-88fa-daecd1ceba09"
   },
   "outputs": [
    {
     "name": "stdout",
     "output_type": "stream",
     "text": [
      "Recall for 'Fraud Detection' : 0.8076923076923077\n",
      "F1 score for 'Fraud Detection' : 0.60431654676259\n"
     ]
    }
   ],
   "source": [
    "r2 = recall_score(y_test, test_pred2)\n",
    "print(f\"Recall for 'Fraud Detection' : {r2}\")\n",
    "f12 = f1_score(y_test, test_pred2)\n",
    "print(f\"F1 score for 'Fraud Detection' : {f12}\")"
   ]
  },
  {
   "cell_type": "code",
   "execution_count": null,
   "metadata": {
    "colab": {
     "base_uri": "https://localhost:8080/",
     "height": 206
    },
    "id": "ePNCt7y8yG9Q",
    "outputId": "d330e736-e0c0-4a89-efc7-ea404be31059"
   },
   "outputs": [
    {
     "data": {
      "text/html": [
       "\n",
       "  <div id=\"df-01b3a354-4759-4fba-a5d9-f26b688da47a\">\n",
       "    <div class=\"colab-df-container\">\n",
       "      <div>\n",
       "<style scoped>\n",
       "    .dataframe tbody tr th:only-of-type {\n",
       "        vertical-align: middle;\n",
       "    }\n",
       "\n",
       "    .dataframe tbody tr th {\n",
       "        vertical-align: top;\n",
       "    }\n",
       "\n",
       "    .dataframe thead th {\n",
       "        text-align: right;\n",
       "    }\n",
       "</style>\n",
       "<table border=\"1\" class=\"dataframe\">\n",
       "  <thead>\n",
       "    <tr style=\"text-align: right;\">\n",
       "      <th></th>\n",
       "      <th>importance_supervised</th>\n",
       "    </tr>\n",
       "  </thead>\n",
       "  <tbody>\n",
       "    <tr>\n",
       "      <th>v14</th>\n",
       "      <td>0.281291</td>\n",
       "    </tr>\n",
       "    <tr>\n",
       "      <th>v4</th>\n",
       "      <td>0.187912</td>\n",
       "    </tr>\n",
       "    <tr>\n",
       "      <th>v12</th>\n",
       "      <td>0.162034</td>\n",
       "    </tr>\n",
       "    <tr>\n",
       "      <th>v10</th>\n",
       "      <td>0.111645</td>\n",
       "    </tr>\n",
       "    <tr>\n",
       "      <th>v19</th>\n",
       "      <td>0.038223</td>\n",
       "    </tr>\n",
       "  </tbody>\n",
       "</table>\n",
       "</div>\n",
       "      <button class=\"colab-df-convert\" onclick=\"convertToInteractive('df-01b3a354-4759-4fba-a5d9-f26b688da47a')\"\n",
       "              title=\"Convert this dataframe to an interactive table.\"\n",
       "              style=\"display:none;\">\n",
       "        \n",
       "  <svg xmlns=\"http://www.w3.org/2000/svg\" height=\"24px\"viewBox=\"0 0 24 24\"\n",
       "       width=\"24px\">\n",
       "    <path d=\"M0 0h24v24H0V0z\" fill=\"none\"/>\n",
       "    <path d=\"M18.56 5.44l.94 2.06.94-2.06 2.06-.94-2.06-.94-.94-2.06-.94 2.06-2.06.94zm-11 1L8.5 8.5l.94-2.06 2.06-.94-2.06-.94L8.5 2.5l-.94 2.06-2.06.94zm10 10l.94 2.06.94-2.06 2.06-.94-2.06-.94-.94-2.06-.94 2.06-2.06.94z\"/><path d=\"M17.41 7.96l-1.37-1.37c-.4-.4-.92-.59-1.43-.59-.52 0-1.04.2-1.43.59L10.3 9.45l-7.72 7.72c-.78.78-.78 2.05 0 2.83L4 21.41c.39.39.9.59 1.41.59.51 0 1.02-.2 1.41-.59l7.78-7.78 2.81-2.81c.8-.78.8-2.07 0-2.86zM5.41 20L4 18.59l7.72-7.72 1.47 1.35L5.41 20z\"/>\n",
       "  </svg>\n",
       "      </button>\n",
       "      \n",
       "  <style>\n",
       "    .colab-df-container {\n",
       "      display:flex;\n",
       "      flex-wrap:wrap;\n",
       "      gap: 12px;\n",
       "    }\n",
       "\n",
       "    .colab-df-convert {\n",
       "      background-color: #E8F0FE;\n",
       "      border: none;\n",
       "      border-radius: 50%;\n",
       "      cursor: pointer;\n",
       "      display: none;\n",
       "      fill: #1967D2;\n",
       "      height: 32px;\n",
       "      padding: 0 0 0 0;\n",
       "      width: 32px;\n",
       "    }\n",
       "\n",
       "    .colab-df-convert:hover {\n",
       "      background-color: #E2EBFA;\n",
       "      box-shadow: 0px 1px 2px rgba(60, 64, 67, 0.3), 0px 1px 3px 1px rgba(60, 64, 67, 0.15);\n",
       "      fill: #174EA6;\n",
       "    }\n",
       "\n",
       "    [theme=dark] .colab-df-convert {\n",
       "      background-color: #3B4455;\n",
       "      fill: #D2E3FC;\n",
       "    }\n",
       "\n",
       "    [theme=dark] .colab-df-convert:hover {\n",
       "      background-color: #434B5C;\n",
       "      box-shadow: 0px 1px 3px 1px rgba(0, 0, 0, 0.15);\n",
       "      filter: drop-shadow(0px 1px 2px rgba(0, 0, 0, 0.3));\n",
       "      fill: #FFFFFF;\n",
       "    }\n",
       "  </style>\n",
       "\n",
       "      <script>\n",
       "        const buttonEl =\n",
       "          document.querySelector('#df-01b3a354-4759-4fba-a5d9-f26b688da47a button.colab-df-convert');\n",
       "        buttonEl.style.display =\n",
       "          google.colab.kernel.accessAllowed ? 'block' : 'none';\n",
       "\n",
       "        async function convertToInteractive(key) {\n",
       "          const element = document.querySelector('#df-01b3a354-4759-4fba-a5d9-f26b688da47a');\n",
       "          const dataTable =\n",
       "            await google.colab.kernel.invokeFunction('convertToInteractive',\n",
       "                                                     [key], {});\n",
       "          if (!dataTable) return;\n",
       "\n",
       "          const docLinkHtml = 'Like what you see? Visit the ' +\n",
       "            '<a target=\"_blank\" href=https://colab.research.google.com/notebooks/data_table.ipynb>data table notebook</a>'\n",
       "            + ' to learn more about interactive tables.';\n",
       "          element.innerHTML = '';\n",
       "          dataTable['output_type'] = 'display_data';\n",
       "          await google.colab.output.renderOutput(dataTable, element);\n",
       "          const docLink = document.createElement('div');\n",
       "          docLink.innerHTML = docLinkHtml;\n",
       "          element.appendChild(docLink);\n",
       "        }\n",
       "      </script>\n",
       "    </div>\n",
       "  </div>\n",
       "  "
      ],
      "text/plain": [
       "     importance_supervised\n",
       "v14               0.281291\n",
       "v4                0.187912\n",
       "v12               0.162034\n",
       "v10               0.111645\n",
       "v19               0.038223"
      ]
     },
     "execution_count": 54,
     "metadata": {},
     "output_type": "execute_result"
    }
   ],
   "source": [
    "importance_tabNet_supervised = pd.DataFrame(clf2.feature_importances_,index=colnames_all).sort_values(0, ascending = False)\n",
    "importance_tabNet_supervised.columns = [\"importance_supervised\"]\n",
    "importance_tabNet_supervised.head()"
   ]
  },
  {
   "cell_type": "markdown",
   "metadata": {
    "id": "frKgrG_e5Mha"
   },
   "source": [
    "## XGB"
   ]
  },
  {
   "cell_type": "code",
   "execution_count": null,
   "metadata": {
    "colab": {
     "base_uri": "https://localhost:8080/"
    },
    "id": "LeN-oW2tlv8c",
    "outputId": "8dd64039-0743-4db3-e73b-1d81a93cde77"
   },
   "outputs": [
    {
     "data": {
      "text/plain": [
       "XGBClassifier(learning_rate=0.2, max_depth=7, n_estimators=200)"
      ]
     },
     "execution_count": 56,
     "metadata": {},
     "output_type": "execute_result"
    }
   ],
   "source": [
    "clf3 = XGBClassifier(max_depth=7, learning_rate=0.2, n_estimators=200)\n",
    "clf3.fit(x_train, y_train)"
   ]
  },
  {
   "cell_type": "code",
   "execution_count": null,
   "metadata": {
    "colab": {
     "base_uri": "https://localhost:8080/"
    },
    "id": "xfsbDQslW-Sm",
    "outputId": "eb5c1556-6b7e-41fa-bd9d-7e42698c8472"
   },
   "outputs": [
    {
     "data": {
      "text/plain": [
       "array([[45490,     0],\n",
       "       [    0,    79]])"
      ]
     },
     "execution_count": 57,
     "metadata": {},
     "output_type": "execute_result"
    }
   ],
   "source": [
    "preds_valid3 = clf3.predict_proba(x_valid) #valid set\n",
    "preds_valid_3 = preds_valid3[:,1]\n",
    "pred_valid3 =[ 0 if i < 0.5 else 1 for i in preds_valid_3]\n",
    "\n",
    "confusion_matrix(y_valid, pred_valid3)"
   ]
  },
  {
   "cell_type": "code",
   "execution_count": null,
   "metadata": {
    "colab": {
     "base_uri": "https://localhost:8080/"
    },
    "id": "o5icR3ajXk8I",
    "outputId": "5f15ef51-4840-4f2a-f132-35d520c84646"
   },
   "outputs": [
    {
     "name": "stdout",
     "output_type": "stream",
     "text": [
      "Recall for 'Fraud Detection' : 1.0\n",
      "F1 score for 'Fraud Detection' : 1.0\n"
     ]
    }
   ],
   "source": [
    "r3 = recall_score(y_valid, pred_valid3)\n",
    "print(f\"Recall for 'Fraud Detection' : {r3}\")\n",
    "f13 = f1_score(y_valid, pred_valid3)\n",
    "print(f\"F1 score for 'Fraud Detection' : {f13}\")"
   ]
  },
  {
   "cell_type": "code",
   "execution_count": null,
   "metadata": {
    "id": "f6ylyU0lXqtB"
   },
   "outputs": [],
   "source": [
    "preds3 = clf3.predict_proba(x_test)\n",
    "test_pred_3 = preds3[:,1]\n",
    "test_pred3 =[ 0 if i < 0.5 else 1 for i in test_pred_3]"
   ]
  },
  {
   "cell_type": "code",
   "execution_count": null,
   "metadata": {
    "colab": {
     "base_uri": "https://localhost:8080/"
    },
    "id": "x5tCk0XsXxYO",
    "outputId": "bb5fb285-fb29-4ca2-9bd0-10d4c27a4745"
   },
   "outputs": [
    {
     "data": {
      "text/plain": [
       "array([[56851,     7],\n",
       "       [   25,    79]])"
      ]
     },
     "execution_count": 60,
     "metadata": {},
     "output_type": "execute_result"
    }
   ],
   "source": [
    "confusion_matrix(y_test, test_pred3)"
   ]
  },
  {
   "cell_type": "code",
   "execution_count": null,
   "metadata": {
    "colab": {
     "base_uri": "https://localhost:8080/"
    },
    "id": "pXM71X2NX1_I",
    "outputId": "4da318f6-e4be-40a9-f66c-5ca3a0ff2232"
   },
   "outputs": [
    {
     "name": "stdout",
     "output_type": "stream",
     "text": [
      "Recall for 'Fraud Detection' : 0.7596153846153846\n",
      "F1 score for 'Fraud Detection' : 0.8315789473684211\n"
     ]
    }
   ],
   "source": [
    "r3 = recall_score(y_test, test_pred3)\n",
    "print(f\"Recall for 'Fraud Detection' : {r3}\")\n",
    "f13 = f1_score(y_test, test_pred3)\n",
    "print(f\"F1 score for 'Fraud Detection' : {f13}\")"
   ]
  },
  {
   "cell_type": "code",
   "execution_count": null,
   "metadata": {
    "id": "ulKya9XkYP9Q"
   },
   "outputs": [],
   "source": [
    "preds3 = clf3.predict_proba(x_test)\n",
    "test_pred_3 = preds3[:,1]\n",
    "test_pred3 =[ 0 if i < 0.5 else 1 for i in test_pred_3]"
   ]
  },
  {
   "cell_type": "code",
   "execution_count": null,
   "metadata": {
    "colab": {
     "base_uri": "https://localhost:8080/",
     "height": 206
    },
    "id": "6BFveei3VNRG",
    "outputId": "e0906ffd-532e-461b-b192-ace4579dffd5"
   },
   "outputs": [
    {
     "data": {
      "text/html": [
       "\n",
       "  <div id=\"df-bcad6743-5c75-4ef6-be54-1f0c92764a16\">\n",
       "    <div class=\"colab-df-container\">\n",
       "      <div>\n",
       "<style scoped>\n",
       "    .dataframe tbody tr th:only-of-type {\n",
       "        vertical-align: middle;\n",
       "    }\n",
       "\n",
       "    .dataframe tbody tr th {\n",
       "        vertical-align: top;\n",
       "    }\n",
       "\n",
       "    .dataframe thead th {\n",
       "        text-align: right;\n",
       "    }\n",
       "</style>\n",
       "<table border=\"1\" class=\"dataframe\">\n",
       "  <thead>\n",
       "    <tr style=\"text-align: right;\">\n",
       "      <th></th>\n",
       "      <th>importance_xgb</th>\n",
       "    </tr>\n",
       "  </thead>\n",
       "  <tbody>\n",
       "    <tr>\n",
       "      <th>v17</th>\n",
       "      <td>0.450993</td>\n",
       "    </tr>\n",
       "    <tr>\n",
       "      <th>v14</th>\n",
       "      <td>0.054990</td>\n",
       "    </tr>\n",
       "    <tr>\n",
       "      <th>v10</th>\n",
       "      <td>0.054656</td>\n",
       "    </tr>\n",
       "    <tr>\n",
       "      <th>v4</th>\n",
       "      <td>0.030411</td>\n",
       "    </tr>\n",
       "    <tr>\n",
       "      <th>v27</th>\n",
       "      <td>0.030065</td>\n",
       "    </tr>\n",
       "  </tbody>\n",
       "</table>\n",
       "</div>\n",
       "      <button class=\"colab-df-convert\" onclick=\"convertToInteractive('df-bcad6743-5c75-4ef6-be54-1f0c92764a16')\"\n",
       "              title=\"Convert this dataframe to an interactive table.\"\n",
       "              style=\"display:none;\">\n",
       "        \n",
       "  <svg xmlns=\"http://www.w3.org/2000/svg\" height=\"24px\"viewBox=\"0 0 24 24\"\n",
       "       width=\"24px\">\n",
       "    <path d=\"M0 0h24v24H0V0z\" fill=\"none\"/>\n",
       "    <path d=\"M18.56 5.44l.94 2.06.94-2.06 2.06-.94-2.06-.94-.94-2.06-.94 2.06-2.06.94zm-11 1L8.5 8.5l.94-2.06 2.06-.94-2.06-.94L8.5 2.5l-.94 2.06-2.06.94zm10 10l.94 2.06.94-2.06 2.06-.94-2.06-.94-.94-2.06-.94 2.06-2.06.94z\"/><path d=\"M17.41 7.96l-1.37-1.37c-.4-.4-.92-.59-1.43-.59-.52 0-1.04.2-1.43.59L10.3 9.45l-7.72 7.72c-.78.78-.78 2.05 0 2.83L4 21.41c.39.39.9.59 1.41.59.51 0 1.02-.2 1.41-.59l7.78-7.78 2.81-2.81c.8-.78.8-2.07 0-2.86zM5.41 20L4 18.59l7.72-7.72 1.47 1.35L5.41 20z\"/>\n",
       "  </svg>\n",
       "      </button>\n",
       "      \n",
       "  <style>\n",
       "    .colab-df-container {\n",
       "      display:flex;\n",
       "      flex-wrap:wrap;\n",
       "      gap: 12px;\n",
       "    }\n",
       "\n",
       "    .colab-df-convert {\n",
       "      background-color: #E8F0FE;\n",
       "      border: none;\n",
       "      border-radius: 50%;\n",
       "      cursor: pointer;\n",
       "      display: none;\n",
       "      fill: #1967D2;\n",
       "      height: 32px;\n",
       "      padding: 0 0 0 0;\n",
       "      width: 32px;\n",
       "    }\n",
       "\n",
       "    .colab-df-convert:hover {\n",
       "      background-color: #E2EBFA;\n",
       "      box-shadow: 0px 1px 2px rgba(60, 64, 67, 0.3), 0px 1px 3px 1px rgba(60, 64, 67, 0.15);\n",
       "      fill: #174EA6;\n",
       "    }\n",
       "\n",
       "    [theme=dark] .colab-df-convert {\n",
       "      background-color: #3B4455;\n",
       "      fill: #D2E3FC;\n",
       "    }\n",
       "\n",
       "    [theme=dark] .colab-df-convert:hover {\n",
       "      background-color: #434B5C;\n",
       "      box-shadow: 0px 1px 3px 1px rgba(0, 0, 0, 0.15);\n",
       "      filter: drop-shadow(0px 1px 2px rgba(0, 0, 0, 0.3));\n",
       "      fill: #FFFFFF;\n",
       "    }\n",
       "  </style>\n",
       "\n",
       "      <script>\n",
       "        const buttonEl =\n",
       "          document.querySelector('#df-bcad6743-5c75-4ef6-be54-1f0c92764a16 button.colab-df-convert');\n",
       "        buttonEl.style.display =\n",
       "          google.colab.kernel.accessAllowed ? 'block' : 'none';\n",
       "\n",
       "        async function convertToInteractive(key) {\n",
       "          const element = document.querySelector('#df-bcad6743-5c75-4ef6-be54-1f0c92764a16');\n",
       "          const dataTable =\n",
       "            await google.colab.kernel.invokeFunction('convertToInteractive',\n",
       "                                                     [key], {});\n",
       "          if (!dataTable) return;\n",
       "\n",
       "          const docLinkHtml = 'Like what you see? Visit the ' +\n",
       "            '<a target=\"_blank\" href=https://colab.research.google.com/notebooks/data_table.ipynb>data table notebook</a>'\n",
       "            + ' to learn more about interactive tables.';\n",
       "          element.innerHTML = '';\n",
       "          dataTable['output_type'] = 'display_data';\n",
       "          await google.colab.output.renderOutput(dataTable, element);\n",
       "          const docLink = document.createElement('div');\n",
       "          docLink.innerHTML = docLinkHtml;\n",
       "          element.appendChild(docLink);\n",
       "        }\n",
       "      </script>\n",
       "    </div>\n",
       "  </div>\n",
       "  "
      ],
      "text/plain": [
       "     importance_xgb\n",
       "v17        0.450993\n",
       "v14        0.054990\n",
       "v10        0.054656\n",
       "v4         0.030411\n",
       "v27        0.030065"
      ]
     },
     "execution_count": 63,
     "metadata": {},
     "output_type": "execute_result"
    }
   ],
   "source": [
    "importance_xgb = pd.DataFrame(clf3.feature_importances_,index=colnames_all).sort_values(0, ascending = False)\n",
    "importance_xgb.columns = [\"importance_xgb\"]\n",
    "importance_xgb.head()"
   ]
  },
  {
   "cell_type": "markdown",
   "metadata": {
    "id": "zNuoVIO7U0cX"
   },
   "source": [
    "---"
   ]
  },
  {
   "cell_type": "markdown",
   "metadata": {
    "id": "EwGMuKGPKIbg"
   },
   "source": [
    "## 알고리즘별 성능 비교\n",
    "\n",
    "- Tabnet self-supervised vs Tabnet without pretraining vs XGB"
   ]
  },
  {
   "cell_type": "code",
   "execution_count": null,
   "metadata": {
    "colab": {
     "base_uri": "https://localhost:8080/",
     "height": 112
    },
    "id": "wQxdHToaZet-",
    "outputId": "2f6046d1-1782-40a2-c5bd-e5c23bd769fa"
   },
   "outputs": [
    {
     "data": {
      "text/html": [
       "\n",
       "  <div id=\"df-d33caa0b-831c-4a39-abc4-241f02568aec\">\n",
       "    <div class=\"colab-df-container\">\n",
       "      <div>\n",
       "<style scoped>\n",
       "    .dataframe tbody tr th:only-of-type {\n",
       "        vertical-align: middle;\n",
       "    }\n",
       "\n",
       "    .dataframe tbody tr th {\n",
       "        vertical-align: top;\n",
       "    }\n",
       "\n",
       "    .dataframe thead th {\n",
       "        text-align: right;\n",
       "    }\n",
       "</style>\n",
       "<table border=\"1\" class=\"dataframe\">\n",
       "  <thead>\n",
       "    <tr style=\"text-align: right;\">\n",
       "      <th></th>\n",
       "      <th>self-supervised</th>\n",
       "      <th>supervised</th>\n",
       "      <th>xgb</th>\n",
       "    </tr>\n",
       "  </thead>\n",
       "  <tbody>\n",
       "    <tr>\n",
       "      <th>0</th>\n",
       "      <td>0.826923</td>\n",
       "      <td>0.807692</td>\n",
       "      <td>0.759615</td>\n",
       "    </tr>\n",
       "    <tr>\n",
       "      <th>1</th>\n",
       "      <td>0.609929</td>\n",
       "      <td>0.604317</td>\n",
       "      <td>0.831579</td>\n",
       "    </tr>\n",
       "  </tbody>\n",
       "</table>\n",
       "</div>\n",
       "      <button class=\"colab-df-convert\" onclick=\"convertToInteractive('df-d33caa0b-831c-4a39-abc4-241f02568aec')\"\n",
       "              title=\"Convert this dataframe to an interactive table.\"\n",
       "              style=\"display:none;\">\n",
       "        \n",
       "  <svg xmlns=\"http://www.w3.org/2000/svg\" height=\"24px\"viewBox=\"0 0 24 24\"\n",
       "       width=\"24px\">\n",
       "    <path d=\"M0 0h24v24H0V0z\" fill=\"none\"/>\n",
       "    <path d=\"M18.56 5.44l.94 2.06.94-2.06 2.06-.94-2.06-.94-.94-2.06-.94 2.06-2.06.94zm-11 1L8.5 8.5l.94-2.06 2.06-.94-2.06-.94L8.5 2.5l-.94 2.06-2.06.94zm10 10l.94 2.06.94-2.06 2.06-.94-2.06-.94-.94-2.06-.94 2.06-2.06.94z\"/><path d=\"M17.41 7.96l-1.37-1.37c-.4-.4-.92-.59-1.43-.59-.52 0-1.04.2-1.43.59L10.3 9.45l-7.72 7.72c-.78.78-.78 2.05 0 2.83L4 21.41c.39.39.9.59 1.41.59.51 0 1.02-.2 1.41-.59l7.78-7.78 2.81-2.81c.8-.78.8-2.07 0-2.86zM5.41 20L4 18.59l7.72-7.72 1.47 1.35L5.41 20z\"/>\n",
       "  </svg>\n",
       "      </button>\n",
       "      \n",
       "  <style>\n",
       "    .colab-df-container {\n",
       "      display:flex;\n",
       "      flex-wrap:wrap;\n",
       "      gap: 12px;\n",
       "    }\n",
       "\n",
       "    .colab-df-convert {\n",
       "      background-color: #E8F0FE;\n",
       "      border: none;\n",
       "      border-radius: 50%;\n",
       "      cursor: pointer;\n",
       "      display: none;\n",
       "      fill: #1967D2;\n",
       "      height: 32px;\n",
       "      padding: 0 0 0 0;\n",
       "      width: 32px;\n",
       "    }\n",
       "\n",
       "    .colab-df-convert:hover {\n",
       "      background-color: #E2EBFA;\n",
       "      box-shadow: 0px 1px 2px rgba(60, 64, 67, 0.3), 0px 1px 3px 1px rgba(60, 64, 67, 0.15);\n",
       "      fill: #174EA6;\n",
       "    }\n",
       "\n",
       "    [theme=dark] .colab-df-convert {\n",
       "      background-color: #3B4455;\n",
       "      fill: #D2E3FC;\n",
       "    }\n",
       "\n",
       "    [theme=dark] .colab-df-convert:hover {\n",
       "      background-color: #434B5C;\n",
       "      box-shadow: 0px 1px 3px 1px rgba(0, 0, 0, 0.15);\n",
       "      filter: drop-shadow(0px 1px 2px rgba(0, 0, 0, 0.3));\n",
       "      fill: #FFFFFF;\n",
       "    }\n",
       "  </style>\n",
       "\n",
       "      <script>\n",
       "        const buttonEl =\n",
       "          document.querySelector('#df-d33caa0b-831c-4a39-abc4-241f02568aec button.colab-df-convert');\n",
       "        buttonEl.style.display =\n",
       "          google.colab.kernel.accessAllowed ? 'block' : 'none';\n",
       "\n",
       "        async function convertToInteractive(key) {\n",
       "          const element = document.querySelector('#df-d33caa0b-831c-4a39-abc4-241f02568aec');\n",
       "          const dataTable =\n",
       "            await google.colab.kernel.invokeFunction('convertToInteractive',\n",
       "                                                     [key], {});\n",
       "          if (!dataTable) return;\n",
       "\n",
       "          const docLinkHtml = 'Like what you see? Visit the ' +\n",
       "            '<a target=\"_blank\" href=https://colab.research.google.com/notebooks/data_table.ipynb>data table notebook</a>'\n",
       "            + ' to learn more about interactive tables.';\n",
       "          element.innerHTML = '';\n",
       "          dataTable['output_type'] = 'display_data';\n",
       "          await google.colab.output.renderOutput(dataTable, element);\n",
       "          const docLink = document.createElement('div');\n",
       "          docLink.innerHTML = docLinkHtml;\n",
       "          element.appendChild(docLink);\n",
       "        }\n",
       "      </script>\n",
       "    </div>\n",
       "  </div>\n",
       "  "
      ],
      "text/plain": [
       "   self-supervised  supervised       xgb\n",
       "0         0.826923    0.807692  0.759615\n",
       "1         0.609929    0.604317  0.831579"
      ]
     },
     "execution_count": 64,
     "metadata": {},
     "output_type": "execute_result"
    }
   ],
   "source": [
    "df_performance = pd.DataFrame({\"self-supervised\":[r, f1], \"supervised\":[r2, f12], \"xgb\":[r3, f13]}, index=['Recall', 'Precision']).reset_index(drop=True)\n",
    "df_performance"
   ]
  },
  {
   "cell_type": "code",
   "execution_count": 80,
   "metadata": {
    "colab": {
     "base_uri": "https://localhost:8080/",
     "height": 206
    },
    "id": "8XN20A2WyMNn",
    "outputId": "677541f9-bade-47d8-d991-3ef0988cb9a4"
   },
   "outputs": [
    {
     "data": {
      "text/html": [
       "\n",
       "  <div id=\"df-a944030a-a717-4466-bc5f-3a38a0b87abd\">\n",
       "    <div class=\"colab-df-container\">\n",
       "      <div>\n",
       "<style scoped>\n",
       "    .dataframe tbody tr th:only-of-type {\n",
       "        vertical-align: middle;\n",
       "    }\n",
       "\n",
       "    .dataframe tbody tr th {\n",
       "        vertical-align: top;\n",
       "    }\n",
       "\n",
       "    .dataframe thead th {\n",
       "        text-align: right;\n",
       "    }\n",
       "</style>\n",
       "<table border=\"1\" class=\"dataframe\">\n",
       "  <thead>\n",
       "    <tr style=\"text-align: right;\">\n",
       "      <th></th>\n",
       "      <th>self_supervised</th>\n",
       "      <th>supervised</th>\n",
       "      <th>xgb</th>\n",
       "    </tr>\n",
       "  </thead>\n",
       "  <tbody>\n",
       "    <tr>\n",
       "      <th>0</th>\n",
       "      <td>v16</td>\n",
       "      <td>v14</td>\n",
       "      <td>v17</td>\n",
       "    </tr>\n",
       "    <tr>\n",
       "      <th>1</th>\n",
       "      <td>v9</td>\n",
       "      <td>v4</td>\n",
       "      <td>v14</td>\n",
       "    </tr>\n",
       "    <tr>\n",
       "      <th>2</th>\n",
       "      <td>v14</td>\n",
       "      <td>v12</td>\n",
       "      <td>v10</td>\n",
       "    </tr>\n",
       "    <tr>\n",
       "      <th>3</th>\n",
       "      <td>v18</td>\n",
       "      <td>v10</td>\n",
       "      <td>v4</td>\n",
       "    </tr>\n",
       "    <tr>\n",
       "      <th>4</th>\n",
       "      <td>v1</td>\n",
       "      <td>v19</td>\n",
       "      <td>v27</td>\n",
       "    </tr>\n",
       "  </tbody>\n",
       "</table>\n",
       "</div>\n",
       "      <button class=\"colab-df-convert\" onclick=\"convertToInteractive('df-a944030a-a717-4466-bc5f-3a38a0b87abd')\"\n",
       "              title=\"Convert this dataframe to an interactive table.\"\n",
       "              style=\"display:none;\">\n",
       "        \n",
       "  <svg xmlns=\"http://www.w3.org/2000/svg\" height=\"24px\"viewBox=\"0 0 24 24\"\n",
       "       width=\"24px\">\n",
       "    <path d=\"M0 0h24v24H0V0z\" fill=\"none\"/>\n",
       "    <path d=\"M18.56 5.44l.94 2.06.94-2.06 2.06-.94-2.06-.94-.94-2.06-.94 2.06-2.06.94zm-11 1L8.5 8.5l.94-2.06 2.06-.94-2.06-.94L8.5 2.5l-.94 2.06-2.06.94zm10 10l.94 2.06.94-2.06 2.06-.94-2.06-.94-.94-2.06-.94 2.06-2.06.94z\"/><path d=\"M17.41 7.96l-1.37-1.37c-.4-.4-.92-.59-1.43-.59-.52 0-1.04.2-1.43.59L10.3 9.45l-7.72 7.72c-.78.78-.78 2.05 0 2.83L4 21.41c.39.39.9.59 1.41.59.51 0 1.02-.2 1.41-.59l7.78-7.78 2.81-2.81c.8-.78.8-2.07 0-2.86zM5.41 20L4 18.59l7.72-7.72 1.47 1.35L5.41 20z\"/>\n",
       "  </svg>\n",
       "      </button>\n",
       "      \n",
       "  <style>\n",
       "    .colab-df-container {\n",
       "      display:flex;\n",
       "      flex-wrap:wrap;\n",
       "      gap: 12px;\n",
       "    }\n",
       "\n",
       "    .colab-df-convert {\n",
       "      background-color: #E8F0FE;\n",
       "      border: none;\n",
       "      border-radius: 50%;\n",
       "      cursor: pointer;\n",
       "      display: none;\n",
       "      fill: #1967D2;\n",
       "      height: 32px;\n",
       "      padding: 0 0 0 0;\n",
       "      width: 32px;\n",
       "    }\n",
       "\n",
       "    .colab-df-convert:hover {\n",
       "      background-color: #E2EBFA;\n",
       "      box-shadow: 0px 1px 2px rgba(60, 64, 67, 0.3), 0px 1px 3px 1px rgba(60, 64, 67, 0.15);\n",
       "      fill: #174EA6;\n",
       "    }\n",
       "\n",
       "    [theme=dark] .colab-df-convert {\n",
       "      background-color: #3B4455;\n",
       "      fill: #D2E3FC;\n",
       "    }\n",
       "\n",
       "    [theme=dark] .colab-df-convert:hover {\n",
       "      background-color: #434B5C;\n",
       "      box-shadow: 0px 1px 3px 1px rgba(0, 0, 0, 0.15);\n",
       "      filter: drop-shadow(0px 1px 2px rgba(0, 0, 0, 0.3));\n",
       "      fill: #FFFFFF;\n",
       "    }\n",
       "  </style>\n",
       "\n",
       "      <script>\n",
       "        const buttonEl =\n",
       "          document.querySelector('#df-a944030a-a717-4466-bc5f-3a38a0b87abd button.colab-df-convert');\n",
       "        buttonEl.style.display =\n",
       "          google.colab.kernel.accessAllowed ? 'block' : 'none';\n",
       "\n",
       "        async function convertToInteractive(key) {\n",
       "          const element = document.querySelector('#df-a944030a-a717-4466-bc5f-3a38a0b87abd');\n",
       "          const dataTable =\n",
       "            await google.colab.kernel.invokeFunction('convertToInteractive',\n",
       "                                                     [key], {});\n",
       "          if (!dataTable) return;\n",
       "\n",
       "          const docLinkHtml = 'Like what you see? Visit the ' +\n",
       "            '<a target=\"_blank\" href=https://colab.research.google.com/notebooks/data_table.ipynb>data table notebook</a>'\n",
       "            + ' to learn more about interactive tables.';\n",
       "          element.innerHTML = '';\n",
       "          dataTable['output_type'] = 'display_data';\n",
       "          await google.colab.output.renderOutput(dataTable, element);\n",
       "          const docLink = document.createElement('div');\n",
       "          docLink.innerHTML = docLinkHtml;\n",
       "          element.appendChild(docLink);\n",
       "        }\n",
       "      </script>\n",
       "    </div>\n",
       "  </div>\n",
       "  "
      ],
      "text/plain": [
       "  self_supervised supervised  xgb\n",
       "0             v16        v14  v17\n",
       "1              v9         v4  v14\n",
       "2             v14        v12  v10\n",
       "3             v18        v10   v4\n",
       "4              v1        v19  v27"
      ]
     },
     "execution_count": 80,
     "metadata": {},
     "output_type": "execute_result"
    }
   ],
   "source": [
    "df_var_imp = pd.DataFrame({'self_supervised':importance_tabNet_self.index, \n",
    "                           'supervised': importance_tabNet_supervised.index, \n",
    "                           'xgb':importance_xgb.index})\n",
    "df_var_imp.head()"
   ]
  },
  {
   "cell_type": "markdown",
   "metadata": {
    "id": "FtKRwqp6u-Vz"
   },
   "source": [
    "## Tabnet 모델의 장단점\n",
    "\n",
    "\n",
    "\n",
    "*   장점 \n",
    "  - 중요 변수를 확인할 수 있음\n",
    "  - 패키지가 제공되어있어 이용 편리\n",
    "  - label 없는 경우 사용 가능\n",
    "*   단점 \n",
    "  - 시간 오래 걸림\n",
    "  - pretrainer 설정에 큰 영향을 받음\n",
    "\n"
   ]
  },
  {
   "cell_type": "markdown",
   "metadata": {},
   "source": [
    "## 참고문헌"
   ]
  },
  {
   "cell_type": "markdown",
   "metadata": {
    "id": "q890yIPFIr7X"
   },
   "source": [
    "- https://www.kaggle.com/optimo/selfsupervisedtabnet\n",
    "\n",
    "- https://www.geeksforgeeks.org/tabnet/#:~:text=TabNet%20was%20proposed%20by%20the,%2C%20finance%2C%20marketing%2C%20etc.\n",
    "\n",
    "- https://www.section.io/engineering-education/what-is-self-supervised-learning/"
   ]
  },
  {
   "cell_type": "code",
   "execution_count": null,
   "metadata": {},
   "outputs": [],
   "source": []
  }
 ],
 "metadata": {
  "accelerator": "GPU",
  "colab": {
   "collapsed_sections": [],
   "name": "tabnet_0218.ipynb",
   "provenance": []
  },
  "kernelspec": {
   "display_name": "Python 3 (ipykernel)",
   "language": "python",
   "name": "python3"
  },
  "language_info": {
   "codemirror_mode": {
    "name": "ipython",
    "version": 3
   },
   "file_extension": ".py",
   "mimetype": "text/x-python",
   "name": "python",
   "nbconvert_exporter": "python",
   "pygments_lexer": "ipython3",
   "version": "3.7.4"
  },
  "latex_envs": {
   "LaTeX_envs_menu_present": true,
   "autoclose": false,
   "autocomplete": true,
   "bibliofile": "biblio.bib",
   "cite_by": "apalike",
   "current_citInitial": 1,
   "eqLabelWithNumbers": true,
   "eqNumInitial": 1,
   "hotkeys": {
    "equation": "Ctrl-E",
    "itemize": "Ctrl-I"
   },
   "labels_anchors": false,
   "latex_user_defs": false,
   "report_style_numbering": false,
   "user_envs_cfg": false
  },
  "toc": {
   "base_numbering": 1,
   "nav_menu": {},
   "number_sections": true,
   "sideBar": true,
   "skip_h1_title": false,
   "title_cell": "Table of Contents",
   "title_sidebar": "Contents",
   "toc_cell": false,
   "toc_position": {},
   "toc_section_display": true,
   "toc_window_display": true
  },
  "varInspector": {
   "cols": {
    "lenName": 16,
    "lenType": 16,
    "lenVar": 40
   },
   "kernels_config": {
    "python": {
     "delete_cmd_postfix": "",
     "delete_cmd_prefix": "del ",
     "library": "var_list.py",
     "varRefreshCmd": "print(var_dic_list())"
    },
    "r": {
     "delete_cmd_postfix": ") ",
     "delete_cmd_prefix": "rm(",
     "library": "var_list.r",
     "varRefreshCmd": "cat(var_dic_list()) "
    }
   },
   "types_to_exclude": [
    "module",
    "function",
    "builtin_function_or_method",
    "instance",
    "_Feature"
   ],
   "window_display": false
  }
 },
 "nbformat": 4,
 "nbformat_minor": 1
}
