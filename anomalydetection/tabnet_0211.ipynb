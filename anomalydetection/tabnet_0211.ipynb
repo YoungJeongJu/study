{
 "cells": [
  {
   "cell_type": "markdown",
   "metadata": {},
   "source": [
    "TabNet\n",
    "-----\n",
    "\n",
    "* self-supervised 관련 리서치 중 대부분 이미지 데이터, 음성 데이터 등 비정형 데이터에 치중되어있다. \n",
    "* tabular data나 정형데이터에 적합한 self-supervised learning 방법이 없을까? 라는 생각에서 research를 해보았다.\n",
    "\n",
    "* Arik S, & Pfister T. *TabNet: Attentive Interpretable Tabular Learning*\n",
    "* https://arxiv.org/abs/1908.07442"
   ]
  },
  {
   "cell_type": "code",
   "execution_count": 2,
   "metadata": {
    "ExecuteTime": {
     "end_time": "2022-02-11T02:03:53.970936Z",
     "start_time": "2022-02-11T02:03:52.572030Z"
    }
   },
   "outputs": [],
   "source": [
    "## Package Setting\n",
    "\n",
    "import os\n",
    "os.environ[\"KERAS_BACKEND\"] = \"tensorflow\"\n",
    "\n",
    "from tqdm import tqdm\n",
    "\n",
    "import random as rn\n",
    "import pandas as pd \n",
    "import numpy as np\n",
    "\n",
    "from numpy.random import rand, randn, randint\n",
    "\n",
    "from scipy.special import softmax\n",
    "\n",
    "import matplotlib.pyplot as plt\n",
    "import seaborn as sns\n",
    "sns.set(style='whitegrid', context='notebook')\n",
    "# %matplotlib notebook\n",
    "%matplotlib inline\n",
    "\n",
    "from sklearn.model_selection import train_test_split \n",
    "from sklearn.metrics import classification_report, accuracy_score, precision_score, recall_score, f1_score, average_precision_score, roc_auc_score, roc_curve, confusion_matrix\n",
    "from sklearn.preprocessing import MinMaxScaler, StandardScaler\n",
    "from sklearn.manifold import TSNE\n",
    "from sklearn.compose import ColumnTransformer\n",
    "from mpl_toolkits.mplot3d import Axes3D"
   ]
  },
  {
   "cell_type": "code",
   "execution_count": 3,
   "metadata": {
    "ExecuteTime": {
     "end_time": "2022-02-11T02:03:57.853067Z",
     "start_time": "2022-02-11T02:03:54.327101Z"
    }
   },
   "outputs": [],
   "source": [
    "import tensorflow as tf\n",
    "\n",
    "import tensorflow_addons as tfa\n",
    "\n",
    "from tensorflow import keras\n",
    "from tensorflow.keras.models import Sequential\n",
    "from tensorflow.keras.layers import Dense\n",
    "from tensorflow.keras.metrics import Mean\n",
    "\n",
    "from tensorflow.keras.utils import plot_model\n",
    "from tensorflow.keras.callbacks import EarlyStopping, ModelCheckpoint\n",
    "from tensorflow_addons.activations import sparsemax\n",
    "\n",
    "\n",
    "from tensorflow.python.framework.ops import disable_eager_execution\n",
    "disable_eager_execution()"
   ]
  },
  {
   "cell_type": "markdown",
   "metadata": {},
   "source": [
    "### 주요특징\n",
    "\n",
    "* 좌에서 우로 가면서 (sequential)하게 학습하며 feature selection을 하면서 학습하는 형식이다.\n",
    "* Supervised fine tuning 하는 방법과 Unsupervised pre-trainining 방식이 있다. 왼쪽에 설명된 방식이 self-supervised learning과 관계가 있는데Encoder-Decoder 구조의 비지도 학습을 수행하여 masked 된 변수값을 예측한다."
   ]
  },
  {
   "cell_type": "markdown",
   "metadata": {
    "ExecuteTime": {
     "end_time": "2022-02-11T01:15:16.131255Z",
     "start_time": "2022-02-11T01:15:15.978396Z"
    }
   },
   "source": [
    "<!-- ![tabnet_sparse_feature_selection](./tabnet_sparse_feature_selection.png) -->\n",
    "<!-- <figure>\n",
    "<img src=\"/Users/youngjeongju/Desktop/project/study/autoencoder/tabnet_sparse_feature_selection.png\" alt=\"feature selection\" style=\"width: 1000px;\"/>\n",
    "</figure> -->\n"
   ]
  },
  {
   "cell_type": "markdown",
   "metadata": {},
   "source": [
    "![tabnet_sparse_feature_selection](./tabnet_sparse_feature_selection.png)\n",
    "![Alt text](./tabnet_training_tuning.png)"
   ]
  },
  {
   "cell_type": "markdown",
   "metadata": {},
   "source": [
    "## Architecture"
   ]
  },
  {
   "cell_type": "markdown",
   "metadata": {
    "ExecuteTime": {
     "end_time": "2022-02-10T12:26:59.080963Z",
     "start_time": "2022-02-10T12:26:58.961953Z"
    }
   },
   "source": [
    "![Alt text](./tabnet_architecture.png)"
   ]
  },
  {
   "cell_type": "markdown",
   "metadata": {},
   "source": [
    "###  Encoder\n",
    "\n",
    "* 각 decision step 내에서 feature transformer, attentive transformer, feature masking으로 구성되어있다. \n",
    "* split block은 feature transformer로부터 나온 representation을 두개로 나누어 하나는 ReLU를 태워 최종 output으로, 다른 하나는 attentive transformer로 넘겨준다.\n",
    "* Mask block은 각 step에서 feature가 어떻게 작동하는지 알 수 있고 집계하여 feature importance를 확인할 수 있다."
   ]
  },
  {
   "cell_type": "markdown",
   "metadata": {},
   "source": [
    "![Alt text](./tabnet_ft.png)"
   ]
  },
  {
   "cell_type": "markdown",
   "metadata": {},
   "source": [
    "#### Feature Transformer\n",
    "\n",
    "* feature block 들이 연속적으로 이어져 있는 것으로 각  block은 Fully-Connected Layer(FC)와 Batch Normalization(BN), GLU(Gated Linear Unit) 로 구성되어있다.\n",
    "* 한 block의 과정이 이루어진 후에 안정성 확보를 위해 sqrt(0.5)를 곱한다. \n",
    "* 예시) 2 레이어는 모든 decision 단계에서 공유되고, 나머지 2 레이어는 해당 decision step에서만 사용한다.\n",
    "* 최종적으로 2개의 output이 출력된다. \n",
    "    - output 예측\n",
    "    - 다음 step의 attentive transformer"
   ]
  },
  {
   "cell_type": "markdown",
   "metadata": {},
   "source": [
    "##### GLU (Gated Linear Unit)\n",
    "* 이전 레이어에서 나오는 정보를 제어하는 역할로 gradient가 급격하게 작아지거나 커지는 것을 막는다."
   ]
  },
  {
   "cell_type": "code",
   "execution_count": 4,
   "metadata": {
    "ExecuteTime": {
     "end_time": "2022-02-10T17:03:05.240170Z",
     "start_time": "2022-02-10T17:03:05.235836Z"
    }
   },
   "outputs": [],
   "source": [
    "def glu(x, n_units=None):\n",
    "    \"\"\"Generalized linear unit nonlinear activation.\"\"\"\n",
    "    if n_units is None:\n",
    "        n_units = tf.shape(x)[-1] // 2\n",
    "\n",
    "    return x[..., :n_units] * tf.nn.sigmoid(x[..., n_units:])"
   ]
  },
  {
   "cell_type": "code",
   "execution_count": 5,
   "metadata": {
    "ExecuteTime": {
     "end_time": "2022-02-10T17:03:05.248507Z",
     "start_time": "2022-02-10T17:03:05.242411Z"
    }
   },
   "outputs": [],
   "source": [
    "class FeatureBlock(tf.keras.Model):\n",
    "    \"\"\"\n",
    "    Implementation of a FL->BN->GLU block\n",
    "    \"\"\"\n",
    "    def __init__(\n",
    "        self,\n",
    "        feature_dim,\n",
    "        apply_glu = True,\n",
    "        bn_momentum = 0.9,\n",
    "        fc = None,\n",
    "        epsilon = 1e-5,\n",
    "    ):\n",
    "        super(FeatureBlock, self).__init__()\n",
    "        self.apply_gpu = apply_glu\n",
    "        self.feature_dim = feature_dim\n",
    "        units = feature_dim * 2 if apply_glu else feature_dim # desired dimension gets multiplied by 2\n",
    "                                                              # because GLU activation halves it\n",
    "\n",
    "        self.fc = tf.keras.layers.Dense(units, use_bias=False) if fc is None else fc # shared layers can get re-used\n",
    "        self.bn = tf.keras.layers.BatchNormalization(momentum=bn_momentum, epsilon=epsilon)\n",
    "\n",
    "    def call(self, x, training = None):\n",
    "        x = self.fc(x) # inputs passes through the FC layer\n",
    "        x = self.bn(x, training=training) # FC layer output gets passed through the BN\n",
    "        if self.apply_gpu: \n",
    "            return glu(x, self.feature_dim) # GLU activation applied to BN output\n",
    "        return x"
   ]
  },
  {
   "cell_type": "code",
   "execution_count": 6,
   "metadata": {
    "ExecuteTime": {
     "end_time": "2022-02-10T17:03:05.259311Z",
     "start_time": "2022-02-10T17:03:05.251612Z"
    }
   },
   "outputs": [],
   "source": [
    "class FeatureTransformer(tf.keras.Model):\n",
    "    def __init__(\n",
    "        self,\n",
    "        feature_dim,\n",
    "        fcs = [],\n",
    "        n_total = 4,\n",
    "        n_shared = 2,\n",
    "        bn_momentum = 0.9,\n",
    "    ):\n",
    "        super(FeatureTransformer, self).__init__()\n",
    "        self.n_total, self.n_shared = n_total, n_shared\n",
    "\n",
    "        kwrgs = {\n",
    "            \"feature_dim\": feature_dim,\n",
    "            \"bn_momentum\": bn_momentum,\n",
    "        }\n",
    "\n",
    "        # build blocks\n",
    "        self.blocks = []\n",
    "        for n in range(n_total):\n",
    "            # some shared blocks\n",
    "            if fcs and n < len(fcs):\n",
    "                self.blocks.append(FeatureBlock(**kwrgs, fc=fcs[n])) # Building shared blocks by providing FC layers\n",
    "            # build new blocks\n",
    "            else:\n",
    "                self.blocks.append(FeatureBlock(**kwrgs)) # Step dependent blocks without the shared FC layers\n",
    "\n",
    "    def call(self, x, training = None):\n",
    "        # input passes through the first block\n",
    "        x = self.blocks[0](x, training=training) \n",
    "        # for the remaining blocks\n",
    "        for n in range(1, self.n_total):\n",
    "            # output from previous block gets multiplied by sqrt(0.5) and output of this block gets added\n",
    "            x = x * tf.sqrt(0.5) + self.blocks[n](x, training=training) \n",
    "        return x\n",
    "\n",
    "    @property\n",
    "    def shared_fcs(self):\n",
    "        return [self.blocks[i].fc for i in range(self.n_shared)]"
   ]
  },
  {
   "cell_type": "markdown",
   "metadata": {},
   "source": [
    "####  Attentive Transformer"
   ]
  },
  {
   "cell_type": "markdown",
   "metadata": {},
   "source": [
    "![Alt text](./tabnet_at.png)"
   ]
  },
  {
   "cell_type": "markdown",
   "metadata": {},
   "source": [
    "* Attentive Transformer는 feature transformer에서 split되어 나온 output중 하나를 input으로 받아 FC, BN, Prior scales, Sparsemax layer를 통과한다. \n",
    "* prior scale을 고려한 sparsemax 활성화를 통해 각 단계에서 feature을 selection한다. \n",
    "* 인코딩된 decision은 attentive transformer 블록을 거쳐 trainable mask로 변환된다.\n",
    "* 예시) 단일 네트워크 구조의 attentive transformer 구조"
   ]
  },
  {
   "cell_type": "markdown",
   "metadata": {},
   "source": [
    "##### Sparsemax activation"
   ]
  },
  {
   "cell_type": "markdown",
   "metadata": {},
   "source": [
    "* sparse한 데이터셋에 적용했을 때 좋은 성능을 보이는 activation function"
   ]
  },
  {
   "cell_type": "code",
   "execution_count": 7,
   "metadata": {
    "ExecuteTime": {
     "end_time": "2022-02-10T17:03:05.267827Z",
     "start_time": "2022-02-10T17:03:05.263661Z"
    }
   },
   "outputs": [],
   "source": [
    "class AttentiveTransformer(tf.keras.Model):\n",
    "    def __init__(self, feature_dim):\n",
    "        super(AttentiveTransformer, self).__init__()\n",
    "        self.block = FeatureBlock(\n",
    "            feature_dim,\n",
    "            apply_glu=False, #sparsemax instead of glu\n",
    "        )\n",
    "\n",
    "    def call(self, x, prior_scales, training=None):\n",
    "        x = self.block(x, training=training)\n",
    "        return sparsemax(x * prior_scales)"
   ]
  },
  {
   "cell_type": "markdown",
   "metadata": {},
   "source": [
    "##### Feature selection 하는 과정\n",
    "\n",
    "* prior scale layer는 이전 step까지 각 기능이 얼마나 많이 사용되었는지 합산한다. \n",
    "* mask : 어떤 feature을 주로 사용할 것인지에 대한 정보가 있음. 다음 step에서 mask 정보를 재활용할 수 있다.\n",
    "* mask를 얼마나 재활용할지를 relaxation factor($\\gamma$)을 통해 조절한다."
   ]
  },
  {
   "cell_type": "markdown",
   "metadata": {},
   "source": [
    "![Alt text](./tabnet_attentive_transformer_ex.png)"
   ]
  },
  {
   "cell_type": "markdown",
   "metadata": {},
   "source": [
    "* 선택된 feature들의 sparsity를 컨트롤하기 위해서 entropy form 안에서 sparsity 정규화를 실행한다."
   ]
  },
  {
   "cell_type": "markdown",
   "metadata": {},
   "source": [
    "![Alt text](./tabnet_sparsity.png)"
   ]
  },
  {
   "cell_type": "markdown",
   "metadata": {},
   "source": [
    "### Decoder"
   ]
  },
  {
   "cell_type": "markdown",
   "metadata": {},
   "source": [
    "![Alt text](./tabnet_decoder.png)"
   ]
  },
  {
   "cell_type": "markdown",
   "metadata": {},
   "source": [
    "* 각 단계에서 feature transformer 블록으로 구성된다.\n",
    "* Self-supervised learning : Decoder의 부분을 통해서 pre-training이 이루어진다.\n",
    "    - tabnet encoder를 통해서 feature engineering 효과를 내고, decision making 부분을 통해 feature selection을 한다.\n",
    "    - 서로 관계가 있는 변수들은 마스킹된 자체 모니터링 학습을 통해서 feature이 재구성되며 학습 작업의 인코더 모델을 개선한다."
   ]
  },
  {
   "cell_type": "markdown",
   "metadata": {},
   "source": [
    "### TabNet full code"
   ]
  },
  {
   "cell_type": "code",
   "execution_count": 8,
   "metadata": {
    "ExecuteTime": {
     "end_time": "2022-02-10T17:03:05.285518Z",
     "start_time": "2022-02-10T17:03:05.271378Z"
    }
   },
   "outputs": [],
   "source": [
    "# TabNet\n",
    "\n",
    "class TabNet(tf.keras.Model):\n",
    "    def __init__(\n",
    "        self,\n",
    "        num_features,\n",
    "        feature_dim,\n",
    "        output_dim,\n",
    "        n_step = 2,\n",
    "        n_total = 4,\n",
    "        n_shared = 2,\n",
    "        relaxation_factor = 1.5,\n",
    "        bn_epsilon = 1e-5,\n",
    "        bn_momentum = 0.7,\n",
    "        sparsity_coefficient = 1e-5\n",
    "    ):\n",
    "        super(TabNet, self).__init__()\n",
    "        self.output_dim, self.num_features = output_dim, num_features\n",
    "        self.n_step, self.relaxation_factor = n_step, relaxation_factor\n",
    "        self.sparsity_coefficient = sparsity_coefficient\n",
    "\n",
    "        self.bn = tf.keras.layers.BatchNormalization(\n",
    "            momentum=bn_momentum, epsilon=bn_epsilon\n",
    "        )\n",
    "\n",
    "        kargs = {\n",
    "            \"feature_dim\": feature_dim + output_dim,\n",
    "            \"n_total\": n_total,\n",
    "            \"n_shared\": n_shared,\n",
    "            \"bn_momentum\": bn_momentum\n",
    "        }\n",
    "\n",
    "        # first feature transformer block is built first to get the shared blocks\n",
    "        self.feature_transforms = [FeatureTransformer(**kargs)]\n",
    "        self.attentive_transforms = []\n",
    "            \n",
    "        # each step consists out of FT and AT\n",
    "        for i in range(n_step):\n",
    "            self.feature_transforms.append(\n",
    "                FeatureTransformer(**kargs, fcs=self.feature_transforms[0].shared_fcs)\n",
    "            )\n",
    "            self.attentive_transforms.append(\n",
    "                AttentiveTransformer(num_features)\n",
    "            )\n",
    "        \n",
    "        # Final output layer\n",
    "        self.head = tf.keras.layers.Dense(2, activation=\"softmax\", use_bias=False)\n",
    "\n",
    "    def call(self, features, training = None):\n",
    "\n",
    "        bs = tf.shape(features)[0] # get batch shape\n",
    "        out_agg = tf.zeros((bs, self.output_dim)) # empty array with outputs to fill\n",
    "        prior_scales = tf.ones((bs, self.num_features)) # prior scales initialised as 1s\n",
    "        importance = tf.zeros([bs, self.num_features]) # importances\n",
    "        masks = []\n",
    "\n",
    "        features = self.bn(features, training=training) # Batch Normalisation\n",
    "        masked_features = features\n",
    "\n",
    "        total_entropy = 0.0\n",
    "\n",
    "        for step_i in range(self.n_step + 1):\n",
    "            # (masked) features go through the FT\n",
    "            x = self.feature_transforms[step_i](\n",
    "                masked_features, training=training\n",
    "            )\n",
    "            \n",
    "            # first FT is not used to generate output\n",
    "            if step_i > 0:\n",
    "                # first half of the FT output goes towards the decision \n",
    "                out = tf.keras.activations.relu(x[:, : self.output_dim])\n",
    "                out_agg += out\n",
    "                scale_agg = tf.reduce_sum(out, axis=1, keepdims=True) / (self.n_step - 1)\n",
    "                importance += mask_values * scale_agg\n",
    "                \n",
    "\n",
    "            # no need to build the features mask for the last step\n",
    "            if step_i < self.n_step:\n",
    "                # second half of the FT output goes as input to the AT\n",
    "                x_for_mask = x[:, self.output_dim :]\n",
    "                \n",
    "                # apply AT with prior scales\n",
    "                mask_values = self.attentive_transforms[step_i](\n",
    "                    x_for_mask, prior_scales, training=training\n",
    "                )\n",
    "\n",
    "                # recalculate the prior scales\n",
    "                prior_scales *= self.relaxation_factor - mask_values\n",
    "                \n",
    "                # multiply the second half of the FT output by the attention mask to enforce sparsity\n",
    "                masked_features = tf.multiply(mask_values, features)\n",
    "\n",
    "                # entropy is used to penalize the amount of sparsity in feature selection\n",
    "                total_entropy += tf.reduce_mean(\n",
    "                    tf.reduce_sum(\n",
    "                        tf.multiply(-mask_values, tf.math.log(mask_values + 1e-15)),\n",
    "                        axis=1,\n",
    "                    )\n",
    "                )\n",
    "                \n",
    "                # append mask values for later explainability\n",
    "                masks.append(tf.expand_dims(tf.expand_dims(mask_values, 0), 3))\n",
    "                \n",
    "        #Per step selection masks        \n",
    "        self.selection_masks = masks\n",
    "        \n",
    "        # Final output\n",
    "        final_output = self.head(out)\n",
    "        \n",
    "        # Add sparsity loss\n",
    "        loss = total_entropy / (self.n_step-1)\n",
    "        self.add_loss(self.sparsity_coefficient * loss)\n",
    "        \n",
    "        return final_output, importance"
   ]
  },
  {
   "cell_type": "markdown",
   "metadata": {},
   "source": [
    "## Example: Fraud Detection \n",
    "\n",
    "- Supervised Learning"
   ]
  },
  {
   "cell_type": "markdown",
   "metadata": {
    "ExecuteTime": {
     "end_time": "2022-02-10T16:44:32.509641Z",
     "start_time": "2022-02-10T16:44:32.505839Z"
    }
   },
   "source": [
    "### Data\n",
    "* Data Shape : (284807, 31)\n",
    "* x: v1~v28, time, amount\n",
    "* y: label"
   ]
  },
  {
   "cell_type": "code",
   "execution_count": 9,
   "metadata": {
    "ExecuteTime": {
     "end_time": "2022-02-10T17:03:07.378944Z",
     "start_time": "2022-02-10T17:03:05.287452Z"
    }
   },
   "outputs": [
    {
     "data": {
      "text/plain": [
       "(284807, 31)"
      ]
     },
     "execution_count": 9,
     "metadata": {},
     "output_type": "execute_result"
    }
   ],
   "source": [
    "df_ = pd.read_csv('./data/creditcard.csv').reset_index(drop=True)\n",
    "\n",
    "# 데이터 변수 조정\n",
    "\n",
    "df_.columns = map(str.lower, df_.columns)\n",
    "df_.rename(columns={'class': 'label'}, inplace=True)\n",
    "\n",
    "df_.shape"
   ]
  },
  {
   "cell_type": "markdown",
   "metadata": {},
   "source": [
    "### Preprocessing\n",
    "\n",
    "* amount 변수 log 형태로 전환\n",
    "* time 변수 제거\n",
    "* minmax scaler 사용"
   ]
  },
  {
   "cell_type": "code",
   "execution_count": 10,
   "metadata": {
    "ExecuteTime": {
     "end_time": "2022-02-10T17:03:08.947707Z",
     "start_time": "2022-02-10T17:03:07.381693Z"
    }
   },
   "outputs": [
    {
     "data": {
      "text/html": [
       "<div>\n",
       "<style scoped>\n",
       "    .dataframe tbody tr th:only-of-type {\n",
       "        vertical-align: middle;\n",
       "    }\n",
       "\n",
       "    .dataframe tbody tr th {\n",
       "        vertical-align: top;\n",
       "    }\n",
       "\n",
       "    .dataframe thead th {\n",
       "        text-align: right;\n",
       "    }\n",
       "</style>\n",
       "<table border=\"1\" class=\"dataframe\">\n",
       "  <thead>\n",
       "    <tr style=\"text-align: right;\">\n",
       "      <th></th>\n",
       "      <th>v1</th>\n",
       "      <th>v2</th>\n",
       "      <th>v3</th>\n",
       "      <th>v4</th>\n",
       "      <th>v5</th>\n",
       "      <th>v6</th>\n",
       "      <th>v7</th>\n",
       "      <th>v8</th>\n",
       "      <th>v9</th>\n",
       "      <th>v10</th>\n",
       "      <th>...</th>\n",
       "      <th>v21</th>\n",
       "      <th>v22</th>\n",
       "      <th>v23</th>\n",
       "      <th>v24</th>\n",
       "      <th>v25</th>\n",
       "      <th>v26</th>\n",
       "      <th>v27</th>\n",
       "      <th>v28</th>\n",
       "      <th>amount</th>\n",
       "      <th>label</th>\n",
       "    </tr>\n",
       "  </thead>\n",
       "  <tbody>\n",
       "    <tr>\n",
       "      <th>0</th>\n",
       "      <td>0.935192</td>\n",
       "      <td>0.766490</td>\n",
       "      <td>0.881365</td>\n",
       "      <td>0.313023</td>\n",
       "      <td>0.763439</td>\n",
       "      <td>0.267669</td>\n",
       "      <td>0.266815</td>\n",
       "      <td>0.786444</td>\n",
       "      <td>0.475312</td>\n",
       "      <td>0.510600</td>\n",
       "      <td>...</td>\n",
       "      <td>0.561184</td>\n",
       "      <td>0.522992</td>\n",
       "      <td>0.663793</td>\n",
       "      <td>0.391253</td>\n",
       "      <td>0.585122</td>\n",
       "      <td>0.394557</td>\n",
       "      <td>0.418976</td>\n",
       "      <td>0.312697</td>\n",
       "      <td>0.493873</td>\n",
       "      <td>0.0</td>\n",
       "    </tr>\n",
       "    <tr>\n",
       "      <th>1</th>\n",
       "      <td>0.978542</td>\n",
       "      <td>0.770067</td>\n",
       "      <td>0.840298</td>\n",
       "      <td>0.271796</td>\n",
       "      <td>0.766120</td>\n",
       "      <td>0.262192</td>\n",
       "      <td>0.264875</td>\n",
       "      <td>0.786298</td>\n",
       "      <td>0.453981</td>\n",
       "      <td>0.505267</td>\n",
       "      <td>...</td>\n",
       "      <td>0.557840</td>\n",
       "      <td>0.480237</td>\n",
       "      <td>0.666938</td>\n",
       "      <td>0.336440</td>\n",
       "      <td>0.587290</td>\n",
       "      <td>0.446013</td>\n",
       "      <td>0.416345</td>\n",
       "      <td>0.313423</td>\n",
       "      <td>0.128583</td>\n",
       "      <td>0.0</td>\n",
       "    </tr>\n",
       "    <tr>\n",
       "      <th>2</th>\n",
       "      <td>0.935217</td>\n",
       "      <td>0.753118</td>\n",
       "      <td>0.868141</td>\n",
       "      <td>0.268766</td>\n",
       "      <td>0.762329</td>\n",
       "      <td>0.281122</td>\n",
       "      <td>0.270177</td>\n",
       "      <td>0.788042</td>\n",
       "      <td>0.410603</td>\n",
       "      <td>0.513018</td>\n",
       "      <td>...</td>\n",
       "      <td>0.565477</td>\n",
       "      <td>0.546030</td>\n",
       "      <td>0.678939</td>\n",
       "      <td>0.289354</td>\n",
       "      <td>0.559515</td>\n",
       "      <td>0.402727</td>\n",
       "      <td>0.415489</td>\n",
       "      <td>0.311911</td>\n",
       "      <td>0.584923</td>\n",
       "      <td>0.0</td>\n",
       "    </tr>\n",
       "    <tr>\n",
       "      <th>3</th>\n",
       "      <td>0.941878</td>\n",
       "      <td>0.765304</td>\n",
       "      <td>0.868484</td>\n",
       "      <td>0.213661</td>\n",
       "      <td>0.765647</td>\n",
       "      <td>0.275559</td>\n",
       "      <td>0.266803</td>\n",
       "      <td>0.789434</td>\n",
       "      <td>0.414999</td>\n",
       "      <td>0.507585</td>\n",
       "      <td>...</td>\n",
       "      <td>0.559734</td>\n",
       "      <td>0.510277</td>\n",
       "      <td>0.662607</td>\n",
       "      <td>0.223826</td>\n",
       "      <td>0.614245</td>\n",
       "      <td>0.389197</td>\n",
       "      <td>0.417669</td>\n",
       "      <td>0.314371</td>\n",
       "      <td>0.475117</td>\n",
       "      <td>0.0</td>\n",
       "    </tr>\n",
       "    <tr>\n",
       "      <th>4</th>\n",
       "      <td>0.938617</td>\n",
       "      <td>0.776520</td>\n",
       "      <td>0.864251</td>\n",
       "      <td>0.269796</td>\n",
       "      <td>0.762975</td>\n",
       "      <td>0.263984</td>\n",
       "      <td>0.268968</td>\n",
       "      <td>0.782484</td>\n",
       "      <td>0.490950</td>\n",
       "      <td>0.524303</td>\n",
       "      <td>...</td>\n",
       "      <td>0.561327</td>\n",
       "      <td>0.547271</td>\n",
       "      <td>0.663392</td>\n",
       "      <td>0.401270</td>\n",
       "      <td>0.566343</td>\n",
       "      <td>0.507497</td>\n",
       "      <td>0.420561</td>\n",
       "      <td>0.317490</td>\n",
       "      <td>0.419792</td>\n",
       "      <td>0.0</td>\n",
       "    </tr>\n",
       "  </tbody>\n",
       "</table>\n",
       "<p>5 rows × 30 columns</p>\n",
       "</div>"
      ],
      "text/plain": [
       "         v1        v2        v3        v4        v5        v6        v7  \\\n",
       "0  0.935192  0.766490  0.881365  0.313023  0.763439  0.267669  0.266815   \n",
       "1  0.978542  0.770067  0.840298  0.271796  0.766120  0.262192  0.264875   \n",
       "2  0.935217  0.753118  0.868141  0.268766  0.762329  0.281122  0.270177   \n",
       "3  0.941878  0.765304  0.868484  0.213661  0.765647  0.275559  0.266803   \n",
       "4  0.938617  0.776520  0.864251  0.269796  0.762975  0.263984  0.268968   \n",
       "\n",
       "         v8        v9       v10  ...       v21       v22       v23       v24  \\\n",
       "0  0.786444  0.475312  0.510600  ...  0.561184  0.522992  0.663793  0.391253   \n",
       "1  0.786298  0.453981  0.505267  ...  0.557840  0.480237  0.666938  0.336440   \n",
       "2  0.788042  0.410603  0.513018  ...  0.565477  0.546030  0.678939  0.289354   \n",
       "3  0.789434  0.414999  0.507585  ...  0.559734  0.510277  0.662607  0.223826   \n",
       "4  0.782484  0.490950  0.524303  ...  0.561327  0.547271  0.663392  0.401270   \n",
       "\n",
       "        v25       v26       v27       v28    amount  label  \n",
       "0  0.585122  0.394557  0.418976  0.312697  0.493873    0.0  \n",
       "1  0.587290  0.446013  0.416345  0.313423  0.128583    0.0  \n",
       "2  0.559515  0.402727  0.415489  0.311911  0.584923    0.0  \n",
       "3  0.614245  0.389197  0.417669  0.314371  0.475117    0.0  \n",
       "4  0.566343  0.507497  0.420561  0.317490  0.419792    0.0  \n",
       "\n",
       "[5 rows x 30 columns]"
      ]
     },
     "execution_count": 10,
     "metadata": {},
     "output_type": "execute_result"
    }
   ],
   "source": [
    "# amount\n",
    "df_['amount'] = np.log(df_.amount + 1)\n",
    "\n",
    "# time\n",
    "df_[\"time\"] = df_[\"time\"].apply(lambda x : x / 3600 % 24)\n",
    "\n",
    "# drop time variable\n",
    "df_ = df_.drop('time', axis=1)\n",
    "\n",
    "# scaler\n",
    "scaler = MinMaxScaler()\n",
    "colnames_all = list(df_)\n",
    "df_[colnames_all] = scaler.fit_transform(df_[colnames_all])\n",
    "\n",
    "df_.head()"
   ]
  },
  {
   "cell_type": "markdown",
   "metadata": {},
   "source": [
    "### Data split\n",
    "\n",
    "* df_train, df_valid, df_test  = 6:2:2"
   ]
  },
  {
   "cell_type": "code",
   "execution_count": 11,
   "metadata": {
    "ExecuteTime": {
     "end_time": "2022-02-10T17:03:09.073980Z",
     "start_time": "2022-02-10T17:03:08.949200Z"
    }
   },
   "outputs": [],
   "source": [
    "df_train_, df_test = train_test_split(df_, test_size=0.2)\n",
    "df_train, df_valid = train_test_split(df_train_, test_size=0.2)"
   ]
  },
  {
   "cell_type": "code",
   "execution_count": 12,
   "metadata": {
    "ExecuteTime": {
     "end_time": "2022-02-10T17:03:09.308226Z",
     "start_time": "2022-02-10T17:03:09.076622Z"
    }
   },
   "outputs": [],
   "source": [
    "x_train = df_train.drop(['label'], axis = 1)\n",
    "y_train = df_train[\"label\"].values\n",
    "\n",
    "x_valid = df_valid.drop(['label'], axis = 1)\n",
    "y_valid = df_valid[\"label\"].values\n",
    "\n",
    "x_test = df_test.drop(['label'], axis=1)\n",
    "y_test = df_test['label'].values\n",
    "\n",
    "scaler = MinMaxScaler()\n",
    "colnames_all = list(x_train.columns)\n",
    "x_train[colnames_all] = scaler.fit_transform(x_train[colnames_all])\n",
    "x_test = scaler.transform(x_test)\n",
    "x_valid[colnames_all] = scaler.fit_transform(x_valid[colnames_all])"
   ]
  },
  {
   "cell_type": "markdown",
   "metadata": {},
   "source": [
    "### TF dataset만들기"
   ]
  },
  {
   "cell_type": "code",
   "execution_count": 13,
   "metadata": {
    "ExecuteTime": {
     "end_time": "2022-02-10T17:03:09.548720Z",
     "start_time": "2022-02-10T17:03:09.310515Z"
    }
   },
   "outputs": [],
   "source": [
    "def prepare_tf_dataset(\n",
    "    X,\n",
    "    batch_size,\n",
    "    y = None,\n",
    "    shuffle = True, #false\n",
    "    drop_remainder = False,\n",
    "):\n",
    "    size_of_dataset = len(X)\n",
    "    if y is not None:\n",
    "        y = tf.one_hot(y.astype(int), 2)\n",
    "        ds = tf.data.Dataset.from_tensor_slices((np.array(X.astype(np.float32)), y))\n",
    "    else:\n",
    "        ds = tf.data.Dataset.from_tensor_slices(np.array(X.astype(np.float32)))\n",
    "    if shuffle:\n",
    "        ds = ds.shuffle(buffer_size=size_of_dataset)\n",
    "    ds = ds.batch(batch_size, drop_remainder=drop_remainder)\n",
    "\n",
    "    autotune = tf.data.experimental.AUTOTUNE\n",
    "    ds = ds.prefetch(autotune)\n",
    "    return ds\n",
    "\n",
    "train_ds = prepare_tf_dataset(x_train, 1000, y_train)\n",
    "val_ds = prepare_tf_dataset(x_valid, 1000, y_valid)\n",
    "test_ds = prepare_tf_dataset(x_test, 1000)"
   ]
  },
  {
   "cell_type": "markdown",
   "metadata": {},
   "source": [
    "### Modeling"
   ]
  },
  {
   "cell_type": "code",
   "execution_count": 14,
   "metadata": {
    "ExecuteTime": {
     "end_time": "2022-02-10T17:31:48.148042Z",
     "start_time": "2022-02-10T17:03:09.550899Z"
    },
    "hide_input": false
   },
   "outputs": [
    {
     "name": "stdout",
     "output_type": "stream",
     "text": [
      "WARNING:tensorflow:AutoGraph could not transform <bound method TabNet.call of <__main__.TabNet object at 0x7fbcff2716d8>> and will run it as-is.\n",
      "Please report this to the TensorFlow team. When filing the bug, set the verbosity to 10 (on Linux, `export AUTOGRAPH_VERBOSITY=10`) and attach the full output.\n",
      "Cause: module 'gast' has no attribute 'Constant'\n",
      "To silence this warning, decorate the function with @tf.autograph.experimental.do_not_convert\n",
      "WARNING: AutoGraph could not transform <bound method TabNet.call of <__main__.TabNet object at 0x7fbcff2716d8>> and will run it as-is.\n",
      "Please report this to the TensorFlow team. When filing the bug, set the verbosity to 10 (on Linux, `export AUTOGRAPH_VERBOSITY=10`) and attach the full output.\n",
      "Cause: module 'gast' has no attribute 'Constant'\n",
      "To silence this warning, decorate the function with @tf.autograph.experimental.do_not_convert\n",
      "WARNING:tensorflow:From /opt/anaconda3/envs/py_3_6/lib/python3.6/site-packages/keras/layers/normalization/batch_normalization.py:520: _colocate_with (from tensorflow.python.framework.ops) is deprecated and will be removed in a future version.\n",
      "Instructions for updating:\n",
      "Colocations handled automatically by placer.\n",
      "WARNING:tensorflow:AutoGraph could not transform <bound method FeatureTransformer.call of <__main__.FeatureTransformer object at 0x7fbd310f0a58>> and will run it as-is.\n",
      "Please report this to the TensorFlow team. When filing the bug, set the verbosity to 10 (on Linux, `export AUTOGRAPH_VERBOSITY=10`) and attach the full output.\n",
      "Cause: module 'gast' has no attribute 'Constant'\n",
      "To silence this warning, decorate the function with @tf.autograph.experimental.do_not_convert\n",
      "WARNING: AutoGraph could not transform <bound method FeatureTransformer.call of <__main__.FeatureTransformer object at 0x7fbd310f0a58>> and will run it as-is.\n",
      "Please report this to the TensorFlow team. When filing the bug, set the verbosity to 10 (on Linux, `export AUTOGRAPH_VERBOSITY=10`) and attach the full output.\n",
      "Cause: module 'gast' has no attribute 'Constant'\n",
      "To silence this warning, decorate the function with @tf.autograph.experimental.do_not_convert\n",
      "WARNING:tensorflow:AutoGraph could not transform <bound method FeatureBlock.call of <__main__.FeatureBlock object at 0x7fbcff271860>> and will run it as-is.\n",
      "Please report this to the TensorFlow team. When filing the bug, set the verbosity to 10 (on Linux, `export AUTOGRAPH_VERBOSITY=10`) and attach the full output.\n",
      "Cause: 'arguments' object has no attribute 'posonlyargs'\n",
      "To silence this warning, decorate the function with @tf.autograph.experimental.do_not_convert\n",
      "WARNING: AutoGraph could not transform <bound method FeatureBlock.call of <__main__.FeatureBlock object at 0x7fbcff271860>> and will run it as-is.\n",
      "Please report this to the TensorFlow team. When filing the bug, set the verbosity to 10 (on Linux, `export AUTOGRAPH_VERBOSITY=10`) and attach the full output.\n",
      "Cause: 'arguments' object has no attribute 'posonlyargs'\n",
      "To silence this warning, decorate the function with @tf.autograph.experimental.do_not_convert\n",
      "WARNING:tensorflow:AutoGraph could not transform <bound method AttentiveTransformer.call of <__main__.AttentiveTransformer object at 0x7fbd1144d1d0>> and will run it as-is.\n",
      "Please report this to the TensorFlow team. When filing the bug, set the verbosity to 10 (on Linux, `export AUTOGRAPH_VERBOSITY=10`) and attach the full output.\n",
      "Cause: 'arguments' object has no attribute 'posonlyargs'\n",
      "To silence this warning, decorate the function with @tf.autograph.experimental.do_not_convert\n",
      "WARNING: AutoGraph could not transform <bound method AttentiveTransformer.call of <__main__.AttentiveTransformer object at 0x7fbd1144d1d0>> and will run it as-is.\n",
      "Please report this to the TensorFlow team. When filing the bug, set the verbosity to 10 (on Linux, `export AUTOGRAPH_VERBOSITY=10`) and attach the full output.\n",
      "Cause: 'arguments' object has no attribute 'posonlyargs'\n",
      "To silence this warning, decorate the function with @tf.autograph.experimental.do_not_convert\n",
      "Train on 19 steps, validate on 5 steps\n",
      "Epoch 1/1000\n",
      "19/19 [==============================] - ETA: 0s - batch: 9.0000 - size: 1.0000 - loss: 0.6886 - output_1_loss: 0.6886"
     ]
    },
    {
     "name": "stderr",
     "output_type": "stream",
     "text": [
      "/opt/anaconda3/envs/py_3_6/lib/python3.6/site-packages/keras/engine/training.py:2470: UserWarning: `Model.state_updates` will be removed in a future version. This property should not be used in TensorFlow 2.0, as `updates` are applied automatically.\n",
      "  warnings.warn('`Model.state_updates` will be removed in a future version. '\n"
     ]
    },
    {
     "name": "stdout",
     "output_type": "stream",
     "text": [
      "19/19 [==============================] - 27s 1s/step - batch: 9.0000 - size: 1.0000 - loss: 0.6886 - output_1_loss: 0.6886 - val_loss: 0.6829 - val_output_1_loss: 0.6829\n",
      "Epoch 2/1000\n",
      "19/19 [==============================] - 26s 1s/step - batch: 9.0000 - size: 1.0000 - loss: 0.4213 - output_1_loss: 0.4213 - val_loss: 0.5989 - val_output_1_loss: 0.5989\n",
      "Epoch 3/1000\n",
      "19/19 [==============================] - 26s 1s/step - batch: 9.0000 - size: 1.0000 - loss: 0.2616 - output_1_loss: 0.2616 - val_loss: 0.4288 - val_output_1_loss: 0.4288\n",
      "Epoch 4/1000\n",
      "19/19 [==============================] - 27s 1s/step - batch: 9.0000 - size: 1.0000 - loss: 0.1649 - output_1_loss: 0.1649 - val_loss: 0.1011 - val_output_1_loss: 0.1011\n",
      "Epoch 5/1000\n",
      "19/19 [==============================] - 27s 1s/step - batch: 9.0000 - size: 1.0000 - loss: 0.1108 - output_1_loss: 0.1108 - val_loss: 0.0455 - val_output_1_loss: 0.0455\n",
      "Epoch 6/1000\n",
      "19/19 [==============================] - 26s 1s/step - batch: 9.0000 - size: 1.0000 - loss: 0.0798 - output_1_loss: 0.0798 - val_loss: 0.0648 - val_output_1_loss: 0.0648\n",
      "Epoch 7/1000\n",
      "19/19 [==============================] - 27s 1s/step - batch: 9.0000 - size: 1.0000 - loss: 0.0615 - output_1_loss: 0.0615 - val_loss: 0.0993 - val_output_1_loss: 0.0993\n",
      "Epoch 8/1000\n",
      "19/19 [==============================] - 26s 1s/step - batch: 9.0000 - size: 1.0000 - loss: 0.0488 - output_1_loss: 0.0488 - val_loss: 0.1039 - val_output_1_loss: 0.1039\n",
      "Epoch 9/1000\n",
      "19/19 [==============================] - 26s 1s/step - batch: 9.0000 - size: 1.0000 - loss: 0.0412 - output_1_loss: 0.0412 - val_loss: 0.1353 - val_output_1_loss: 0.1353\n",
      "Epoch 10/1000\n",
      "19/19 [==============================] - 26s 1s/step - batch: 9.0000 - size: 1.0000 - loss: 0.0354 - output_1_loss: 0.0354 - val_loss: 0.1271 - val_output_1_loss: 0.1271\n",
      "Epoch 11/1000\n",
      "19/19 [==============================] - 26s 1s/step - batch: 9.0000 - size: 1.0000 - loss: 0.0318 - output_1_loss: 0.0318 - val_loss: 0.0907 - val_output_1_loss: 0.0907\n",
      "Epoch 12/1000\n",
      "19/19 [==============================] - 26s 1s/step - batch: 9.0000 - size: 1.0000 - loss: 0.0283 - output_1_loss: 0.0283 - val_loss: 0.0833 - val_output_1_loss: 0.0833\n",
      "Epoch 13/1000\n",
      "19/19 [==============================] - 26s 1s/step - batch: 9.0000 - size: 1.0000 - loss: 0.0256 - output_1_loss: 0.0256 - val_loss: 0.0626 - val_output_1_loss: 0.0626\n",
      "Epoch 14/1000\n",
      "19/19 [==============================] - 27s 1s/step - batch: 9.0000 - size: 1.0000 - loss: 0.0240 - output_1_loss: 0.0240 - val_loss: 0.0503 - val_output_1_loss: 0.0503\n",
      "Epoch 15/1000\n",
      "19/19 [==============================] - 26s 1s/step - batch: 9.0000 - size: 1.0000 - loss: 0.0215 - output_1_loss: 0.0215 - val_loss: 0.0587 - val_output_1_loss: 0.0587\n",
      "Epoch 16/1000\n",
      "19/19 [==============================] - 26s 1s/step - batch: 9.0000 - size: 1.0000 - loss: 0.0198 - output_1_loss: 0.0198 - val_loss: 0.0406 - val_output_1_loss: 0.0406\n",
      "Epoch 17/1000\n",
      "19/19 [==============================] - 25s 1s/step - batch: 9.0000 - size: 1.0000 - loss: 0.0186 - output_1_loss: 0.0186 - val_loss: 0.0340 - val_output_1_loss: 0.0340\n",
      "Epoch 18/1000\n",
      "19/19 [==============================] - 27s 1s/step - batch: 9.0000 - size: 1.0000 - loss: 0.0178 - output_1_loss: 0.0178 - val_loss: 0.0391 - val_output_1_loss: 0.0391\n",
      "Epoch 19/1000\n",
      "19/19 [==============================] - 26s 1s/step - batch: 9.0000 - size: 1.0000 - loss: 0.0166 - output_1_loss: 0.0166 - val_loss: 0.0353 - val_output_1_loss: 0.0353\n",
      "Epoch 20/1000\n",
      "19/19 [==============================] - 26s 1s/step - batch: 9.0000 - size: 1.0000 - loss: 0.0158 - output_1_loss: 0.0158 - val_loss: 0.0302 - val_output_1_loss: 0.0302\n",
      "Epoch 21/1000\n",
      "19/19 [==============================] - 26s 1s/step - batch: 9.0000 - size: 1.0000 - loss: 0.0149 - output_1_loss: 0.0149 - val_loss: 0.0447 - val_output_1_loss: 0.0447\n",
      "Epoch 22/1000\n",
      "19/19 [==============================] - 28s 1s/step - batch: 9.0000 - size: 1.0000 - loss: 0.0139 - output_1_loss: 0.0139 - val_loss: 0.0282 - val_output_1_loss: 0.0282\n",
      "Epoch 23/1000\n",
      "19/19 [==============================] - 27s 1s/step - batch: 9.0000 - size: 1.0000 - loss: 0.0134 - output_1_loss: 0.0134 - val_loss: 0.0229 - val_output_1_loss: 0.0229\n",
      "Epoch 24/1000\n",
      "19/19 [==============================] - 26s 1s/step - batch: 9.0000 - size: 1.0000 - loss: 0.0125 - output_1_loss: 0.0125 - val_loss: 0.0234 - val_output_1_loss: 0.0234\n",
      "Epoch 25/1000\n",
      "19/19 [==============================] - 26s 1s/step - batch: 9.0000 - size: 1.0000 - loss: 0.0123 - output_1_loss: 0.0123 - val_loss: 0.0191 - val_output_1_loss: 0.0191\n",
      "Epoch 26/1000\n",
      "19/19 [==============================] - 27s 1s/step - batch: 9.0000 - size: 1.0000 - loss: 0.0120 - output_1_loss: 0.0120 - val_loss: 0.0187 - val_output_1_loss: 0.0187\n",
      "Epoch 27/1000\n",
      "19/19 [==============================] - 24s 1s/step - batch: 9.0000 - size: 1.0000 - loss: 0.0114 - output_1_loss: 0.0114 - val_loss: 0.0188 - val_output_1_loss: 0.0188\n",
      "Epoch 28/1000\n",
      "19/19 [==============================] - 26s 1s/step - batch: 9.0000 - size: 1.0000 - loss: 0.0113 - output_1_loss: 0.0113 - val_loss: 0.0186 - val_output_1_loss: 0.0186\n",
      "Epoch 29/1000\n",
      "19/19 [==============================] - 24s 1s/step - batch: 9.0000 - size: 1.0000 - loss: 0.0110 - output_1_loss: 0.0110 - val_loss: 0.0169 - val_output_1_loss: 0.0169\n",
      "Epoch 30/1000\n",
      "19/19 [==============================] - 25s 1s/step - batch: 9.0000 - size: 1.0000 - loss: 0.0110 - output_1_loss: 0.0110 - val_loss: 0.0181 - val_output_1_loss: 0.0181\n",
      "Epoch 31/1000\n",
      "19/19 [==============================] - 26s 1s/step - batch: 9.0000 - size: 1.0000 - loss: 0.0111 - output_1_loss: 0.0111 - val_loss: 0.0194 - val_output_1_loss: 0.0194\n",
      "Epoch 32/1000\n",
      "19/19 [==============================] - 26s 1s/step - batch: 9.0000 - size: 1.0000 - loss: 0.0110 - output_1_loss: 0.0110 - val_loss: 0.0215 - val_output_1_loss: 0.0215\n",
      "Epoch 33/1000\n",
      "19/19 [==============================] - 26s 1s/step - batch: 9.0000 - size: 1.0000 - loss: 0.0108 - output_1_loss: 0.0108 - val_loss: 0.0195 - val_output_1_loss: 0.0195\n",
      "Epoch 34/1000\n",
      "19/19 [==============================] - 26s 1s/step - batch: 9.0000 - size: 1.0000 - loss: 0.0112 - output_1_loss: 0.0112 - val_loss: 0.0193 - val_output_1_loss: 0.0193\n",
      "Epoch 35/1000\n",
      "19/19 [==============================] - 26s 1s/step - batch: 9.0000 - size: 1.0000 - loss: 0.0110 - output_1_loss: 0.0110 - val_loss: 0.0187 - val_output_1_loss: 0.0187\n",
      "Epoch 36/1000\n",
      "19/19 [==============================] - 27s 1s/step - batch: 9.0000 - size: 1.0000 - loss: 0.0107 - output_1_loss: 0.0107 - val_loss: 0.0167 - val_output_1_loss: 0.0167\n",
      "Epoch 37/1000\n",
      "19/19 [==============================] - 26s 1s/step - batch: 9.0000 - size: 1.0000 - loss: 0.0105 - output_1_loss: 0.0105 - val_loss: 0.0203 - val_output_1_loss: 0.0203\n",
      "Epoch 38/1000\n",
      "19/19 [==============================] - 28s 1s/step - batch: 9.0000 - size: 1.0000 - loss: 0.0103 - output_1_loss: 0.0103 - val_loss: 0.0219 - val_output_1_loss: 0.0219\n",
      "Epoch 39/1000\n",
      "19/19 [==============================] - 26s 1s/step - batch: 9.0000 - size: 1.0000 - loss: 0.0104 - output_1_loss: 0.0104 - val_loss: 0.0206 - val_output_1_loss: 0.0206\n",
      "Epoch 40/1000\n",
      "19/19 [==============================] - 26s 1s/step - batch: 9.0000 - size: 1.0000 - loss: 0.0098 - output_1_loss: 0.0098 - val_loss: 0.0209 - val_output_1_loss: 0.0209\n",
      "Epoch 41/1000\n",
      "19/19 [==============================] - 25s 1s/step - batch: 9.0000 - size: 1.0000 - loss: 0.0095 - output_1_loss: 0.0095 - val_loss: 0.0222 - val_output_1_loss: 0.0222\n",
      "Epoch 42/1000\n",
      "19/19 [==============================] - 25s 1s/step - batch: 9.0000 - size: 1.0000 - loss: 0.0095 - output_1_loss: 0.0095 - val_loss: 0.0198 - val_output_1_loss: 0.0198\n",
      "Epoch 43/1000\n",
      "19/19 [==============================] - 25s 1s/step - batch: 9.0000 - size: 1.0000 - loss: 0.0088 - output_1_loss: 0.0088 - val_loss: 0.0188 - val_output_1_loss: 0.0188\n",
      "Epoch 44/1000\n",
      "19/19 [==============================] - 25s 1s/step - batch: 9.0000 - size: 1.0000 - loss: 0.0086 - output_1_loss: 0.0086 - val_loss: 0.0215 - val_output_1_loss: 0.0215\n",
      "Epoch 45/1000\n"
     ]
    },
    {
     "name": "stdout",
     "output_type": "stream",
     "text": [
      "19/19 [==============================] - 25s 1s/step - batch: 9.0000 - size: 1.0000 - loss: 0.0082 - output_1_loss: 0.0082 - val_loss: 0.0239 - val_output_1_loss: 0.0239\n",
      "Epoch 46/1000\n",
      "19/19 [==============================] - 26s 1s/step - batch: 9.0000 - size: 1.0000 - loss: 0.0081 - output_1_loss: 0.0081 - val_loss: 0.0212 - val_output_1_loss: 0.0212\n",
      "Epoch 47/1000\n",
      "19/19 [==============================] - 25s 1s/step - batch: 9.0000 - size: 1.0000 - loss: 0.0079 - output_1_loss: 0.0079 - val_loss: 0.0207 - val_output_1_loss: 0.0207\n",
      "Epoch 48/1000\n",
      "19/19 [==============================] - 24s 1s/step - batch: 9.0000 - size: 1.0000 - loss: 0.0076 - output_1_loss: 0.0076 - val_loss: 0.0205 - val_output_1_loss: 0.0205\n",
      "Epoch 49/1000\n",
      "19/19 [==============================] - 25s 1s/step - batch: 9.0000 - size: 1.0000 - loss: 0.0075 - output_1_loss: 0.0075 - val_loss: 0.0192 - val_output_1_loss: 0.0192\n",
      "Epoch 50/1000\n",
      "19/19 [==============================] - 26s 1s/step - batch: 9.0000 - size: 1.0000 - loss: 0.0077 - output_1_loss: 0.0077 - val_loss: 0.0212 - val_output_1_loss: 0.0212\n",
      "Epoch 51/1000\n",
      "19/19 [==============================] - 25s 1s/step - batch: 9.0000 - size: 1.0000 - loss: 0.0076 - output_1_loss: 0.0076 - val_loss: 0.0191 - val_output_1_loss: 0.0191\n",
      "Epoch 52/1000\n",
      "19/19 [==============================] - 25s 1s/step - batch: 9.0000 - size: 1.0000 - loss: 0.0072 - output_1_loss: 0.0072 - val_loss: 0.0209 - val_output_1_loss: 0.0209\n",
      "Epoch 53/1000\n",
      "19/19 [==============================] - 25s 1s/step - batch: 9.0000 - size: 1.0000 - loss: 0.0065 - output_1_loss: 0.0065 - val_loss: 0.0219 - val_output_1_loss: 0.0219\n",
      "Epoch 54/1000\n",
      "19/19 [==============================] - 27s 1s/step - batch: 9.0000 - size: 1.0000 - loss: 0.0060 - output_1_loss: 0.0060 - val_loss: 0.0201 - val_output_1_loss: 0.0201\n",
      "Epoch 55/1000\n",
      "19/19 [==============================] - 26s 1s/step - batch: 9.0000 - size: 1.0000 - loss: 0.0061 - output_1_loss: 0.0061 - val_loss: 0.0213 - val_output_1_loss: 0.0213\n",
      "Epoch 56/1000\n",
      "19/19 [==============================] - 26s 1s/step - batch: 9.0000 - size: 1.0000 - loss: 0.0065 - output_1_loss: 0.0065 - val_loss: 0.0182 - val_output_1_loss: 0.0182\n",
      "Epoch 57/1000\n",
      "19/19 [==============================] - 26s 1s/step - batch: 9.0000 - size: 1.0000 - loss: 0.0063 - output_1_loss: 0.0063 - val_loss: 0.0489 - val_output_1_loss: 0.0489\n",
      "Epoch 58/1000\n",
      "19/19 [==============================] - 24s 1s/step - batch: 9.0000 - size: 1.0000 - loss: 0.0063 - output_1_loss: 0.0063 - val_loss: 0.0276 - val_output_1_loss: 0.0276\n",
      "Epoch 59/1000\n",
      "19/19 [==============================] - 27s 1s/step - batch: 9.0000 - size: 1.0000 - loss: 0.0060 - output_1_loss: 0.0060 - val_loss: 0.0280 - val_output_1_loss: 0.0280\n",
      "Epoch 60/1000\n",
      "19/19 [==============================] - 26s 1s/step - batch: 9.0000 - size: 1.0000 - loss: 0.0062 - output_1_loss: 0.0062 - val_loss: 0.0324 - val_output_1_loss: 0.0324\n",
      "Epoch 61/1000\n",
      "19/19 [==============================] - 26s 1s/step - batch: 9.0000 - size: 1.0000 - loss: 0.0059 - output_1_loss: 0.0059 - val_loss: 0.0239 - val_output_1_loss: 0.0239\n",
      "Epoch 62/1000\n",
      "19/19 [==============================] - 26s 1s/step - batch: 9.0000 - size: 1.0000 - loss: 0.0055 - output_1_loss: 0.0055 - val_loss: 0.0273 - val_output_1_loss: 0.0273\n",
      "Epoch 63/1000\n",
      "19/19 [==============================] - 26s 1s/step - batch: 9.0000 - size: 1.0000 - loss: 0.0055 - output_1_loss: 0.0055 - val_loss: 0.0336 - val_output_1_loss: 0.0336\n",
      "Epoch 64/1000\n",
      "19/19 [==============================] - 26s 1s/step - batch: 9.0000 - size: 1.0000 - loss: 0.0056 - output_1_loss: 0.0056 - val_loss: 0.0360 - val_output_1_loss: 0.0360\n",
      "Epoch 65/1000\n",
      "19/19 [==============================] - 26s 1s/step - batch: 9.0000 - size: 1.0000 - loss: 0.0054 - output_1_loss: 0.0054 - val_loss: 0.0586 - val_output_1_loss: 0.0586\n",
      "Epoch 66/1000\n",
      "19/19 [==============================] - 27s 1s/step - batch: 9.0000 - size: 1.0000 - loss: 0.0054 - output_1_loss: 0.0054 - val_loss: 0.0285 - val_output_1_loss: 0.0285\n"
     ]
    },
    {
     "data": {
      "text/plain": [
       "<keras.callbacks.History at 0x7fbd1347af60>"
      ]
     },
     "execution_count": 14,
     "metadata": {},
     "output_type": "execute_result"
    }
   ],
   "source": [
    "tabnet = TabNet(num_features = x_train.shape[1],\n",
    "                output_dim = 128,\n",
    "                feature_dim = 128,\n",
    "                n_step = 2, \n",
    "                relaxation_factor= 2.2,\n",
    "                sparsity_coefficient=2.37e-07,\n",
    "                n_shared = 2,\n",
    "                bn_momentum = 0.9245)\n",
    "\n",
    "\n",
    "# Early stopping based on validation loss    \n",
    "cbs = [tf.keras.callbacks.EarlyStopping(\n",
    "        monitor=\"val_loss\", patience=30, restore_best_weights=True\n",
    "    )]\n",
    "\n",
    "# Optimiser \n",
    "optimizer = tf.keras.optimizers.Adam(learning_rate=0.0001, clipnorm=10)\n",
    "\n",
    "# Second loss in None because we also output the importances\n",
    "loss = [tf.keras.losses.CategoricalCrossentropy(from_logits=False), None]\n",
    "\n",
    "# Compile the model\n",
    "tabnet.compile(optimizer,\n",
    "               loss=loss)\n",
    "\n",
    "# Train the model\n",
    "tabnet.fit(train_ds, \n",
    "           epochs=1000, \n",
    "           validation_data=val_ds,\n",
    "           callbacks=cbs,\n",
    "           verbose=1,\n",
    "          class_weight={\n",
    "              0:1,\n",
    "              1: 10\n",
    "          })"
   ]
  },
  {
   "cell_type": "markdown",
   "metadata": {},
   "source": [
    "### Validation 성능 확인 "
   ]
  },
  {
   "cell_type": "code",
   "execution_count": 15,
   "metadata": {
    "ExecuteTime": {
     "end_time": "2022-02-10T17:31:51.786681Z",
     "start_time": "2022-02-10T17:31:48.149775Z"
    }
   },
   "outputs": [],
   "source": [
    "val_preds, val_imps = tabnet.predict(val_ds)"
   ]
  },
  {
   "cell_type": "code",
   "execution_count": 18,
   "metadata": {
    "ExecuteTime": {
     "end_time": "2022-02-10T17:32:52.318446Z",
     "start_time": "2022-02-10T17:32:52.287005Z"
    }
   },
   "outputs": [
    {
     "name": "stdout",
     "output_type": "stream",
     "text": [
      "Test ROC AUC 0.4855\n",
      "Test PR AUC 0.002\n"
     ]
    }
   ],
   "source": [
    "print('Test ROC AUC', np.round(roc_auc_score(y_valid, val_preds[:, 1]), 4))\n",
    "print('Test PR AUC', np.round(average_precision_score(y_valid, val_preds[:, 1]), 4))"
   ]
  },
  {
   "cell_type": "markdown",
   "metadata": {},
   "source": [
    "### Prediction"
   ]
  },
  {
   "cell_type": "code",
   "execution_count": 19,
   "metadata": {
    "ExecuteTime": {
     "end_time": "2022-02-10T17:32:58.206205Z",
     "start_time": "2022-02-10T17:32:54.610940Z"
    }
   },
   "outputs": [],
   "source": [
    "test_preds, test_imp = tabnet.predict(test_ds)"
   ]
  },
  {
   "cell_type": "code",
   "execution_count": 20,
   "metadata": {
    "ExecuteTime": {
     "end_time": "2022-02-10T17:32:58.643592Z",
     "start_time": "2022-02-10T17:32:58.640509Z"
    }
   },
   "outputs": [],
   "source": [
    "temp = pd.DataFrame({'y':y_test, 'yhat':test_preds[:,1]})"
   ]
  },
  {
   "cell_type": "code",
   "execution_count": 33,
   "metadata": {
    "ExecuteTime": {
     "end_time": "2022-02-10T17:35:03.399232Z",
     "start_time": "2022-02-10T17:35:03.395037Z"
    }
   },
   "outputs": [
    {
     "name": "stdout",
     "output_type": "stream",
     "text": [
      "[1 0 0 ... 1 0 0]\n"
     ]
    }
   ],
   "source": [
    "y_pred = np.where(test_preds[:, 1] > 0.005, 1, 0)\n",
    "# y_pred = np.percentile(test_preds[:, 1],5)\n",
    "print(y_pred)"
   ]
  },
  {
   "cell_type": "code",
   "execution_count": 35,
   "metadata": {
    "ExecuteTime": {
     "end_time": "2022-02-10T17:35:04.487813Z",
     "start_time": "2022-02-10T17:35:04.405059Z"
    }
   },
   "outputs": [
    {
     "name": "stdout",
     "output_type": "stream",
     "text": [
      "Accuracy Score : 0.63\n",
      "Precision : 0.0\n",
      "Recall : 0.38\n",
      "F1 : 0.0\n"
     ]
    }
   ],
   "source": [
    "print ('Accuracy Score :',np.round(accuracy_score(y_test, y_pred),2) )\n",
    "print ('Precision :',np.round(precision_score(y_test, y_pred),2))\n",
    "print ('Recall :',np.round(recall_score(y_test, y_pred),2))\n",
    "print ('F1 :',np.round(f1_score(y_test, y_pred),2))"
   ]
  },
  {
   "cell_type": "code",
   "execution_count": 36,
   "metadata": {
    "ExecuteTime": {
     "end_time": "2022-02-10T17:35:05.567820Z",
     "start_time": "2022-02-10T17:35:05.362339Z"
    }
   },
   "outputs": [
    {
     "name": "stdout",
     "output_type": "stream",
     "text": [
      "Confusion Matrix :\n"
     ]
    },
    {
     "data": {
      "image/png": "[encoded data removed]",
      "text/plain": [
       "<Figure size 360x360 with 2 Axes>"
      ]
     },
     "metadata": {
      "needs_background": "light"
     },
     "output_type": "display_data"
    }
   ],
   "source": [
    "cm = confusion_matrix(y_test, y_pred)\n",
    "target_names = ['non_fraud', 'fraud']\n",
    "\n",
    "print ('Confusion Matrix :')\n",
    "\n",
    "def plot_confusion_matrix(cm,target_names, title='Confusion matrix', cmap=plt.cm.Blues):\n",
    "    plt.figure(figsize=(5,5),)\n",
    "    plt.imshow(cm, interpolation='nearest', cmap=cmap)\n",
    "    plt.title(title)\n",
    "    plt.colorbar()\n",
    "    tick_marks = np.arange(len(target_names))\n",
    "    plt.xticks(tick_marks, target_names, rotation=45)\n",
    "    plt.yticks(tick_marks, target_names)\n",
    "    plt.tight_layout()\n",
    "\n",
    "    width, height = cm.shape\n",
    "\n",
    "    for x in range(width):\n",
    "        for y in range(height):\n",
    "            plt.annotate(str(cm[x][y]), xy=(y, x), \n",
    "                        horizontalalignment='center',\n",
    "                        verticalalignment='center')\n",
    "    plt.ylabel('True label')\n",
    "    plt.xlabel('Predicted label')\n",
    "\n",
    "\n",
    "plot_confusion_matrix(cm,target_names)"
   ]
  },
  {
   "cell_type": "markdown",
   "metadata": {},
   "source": [
    "### 의문점\n",
    "   - self-supervised 부분이 autoencoder랑 다른점이 무엇인지?\n",
    "   - !!!이미 package가 나와있음!!!!"
   ]
  },
  {
   "cell_type": "markdown",
   "metadata": {},
   "source": [
    "### 참고 문헌 / 코드\n",
    "\n",
    "* https://today-1.tistory.com/54\n",
    "* https://dacon.io/codeshare/2515\n",
    "* https://velog.io/@jkl133/TabNet-Gradient-Boosting%EC%9D%98-%EC%A2%85%EB%A7%90\n",
    "* https://data-newbie.tistory.com/378?category=753185\n",
    "</br>\n",
    "\n",
    "* https://github.com/google-research/google-research\n",
    "* https://github.com/aruberts/blogs/blob/main/TabNet%20Classification%20Example.ipynb\n"
   ]
  }
 ],
 "metadata": {
  "kernelspec": {
   "display_name": "py_3_6",
   "language": "python",
   "name": "py_3_6"
  },
  "language_info": {
   "codemirror_mode": {
    "name": "ipython",
    "version": 3
   },
   "file_extension": ".py",
   "mimetype": "text/x-python",
   "name": "python",
   "nbconvert_exporter": "python",
   "pygments_lexer": "ipython3",
   "version": "3.6.10"
  },
  "latex_envs": {
   "LaTeX_envs_menu_present": true,
   "autoclose": false,
   "autocomplete": true,
   "bibliofile": "biblio.bib",
   "cite_by": "apalike",
   "current_citInitial": 1,
   "eqLabelWithNumbers": true,
   "eqNumInitial": 1,
   "hotkeys": {
    "equation": "Ctrl-E",
    "itemize": "Ctrl-I"
   },
   "labels_anchors": false,
   "latex_user_defs": false,
   "report_style_numbering": false,
   "user_envs_cfg": false
  },
  "toc": {
   "base_numbering": 1,
   "nav_menu": {},
   "number_sections": true,
   "sideBar": true,
   "skip_h1_title": false,
   "title_cell": "Table of Contents",
   "title_sidebar": "Contents",
   "toc_cell": false,
   "toc_position": {},
   "toc_section_display": true,
   "toc_window_display": false
  },
  "varInspector": {
   "cols": {
    "lenName": 16,
    "lenType": 16,
    "lenVar": 40
   },
   "kernels_config": {
    "python": {
     "delete_cmd_postfix": "",
     "delete_cmd_prefix": "del ",
     "library": "var_list.py",
     "varRefreshCmd": "print(var_dic_list())"
    },
    "r": {
     "delete_cmd_postfix": ") ",
     "delete_cmd_prefix": "rm(",
     "library": "var_list.r",
     "varRefreshCmd": "cat(var_dic_list()) "
    }
   },
   "types_to_exclude": [
    "module",
    "function",
    "builtin_function_or_method",
    "instance",
    "_Feature"
   ],
   "window_display": false
  }
 },
 "nbformat": 4,
 "nbformat_minor": 2
}
